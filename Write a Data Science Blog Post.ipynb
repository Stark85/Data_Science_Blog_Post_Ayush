{
 "cells": [
  {
   "cell_type": "markdown",
   "metadata": {},
   "source": [
    "# Is Canada a Country with Consistent Job Market for Developers: A Closer Look Into Data Science Field?\n",
    "## by Ayush Mahajan\n",
    "\n",
    "> Data analysis and visualization using data from surveys conducted from 2017 to 2019 among Stackoverflow's community"
   ]
  },
  {
   "cell_type": "markdown",
   "metadata": {},
   "source": [
    "## Business Understanding\n",
    "> For this project I used Stackoverflow survey data from 2017 to 2019 focusing only on Canada.\n",
    "The questions of interest are:\n",
    "1. Among three programming languages which are mainly used in data science (Python, SQL, R) what percentage of Canadian participants worked with last year and desired to work with next year between 2017 and 2019? Did the salary changed over the years for each language?\n",
    "2. Do Canadian developers with more professional coding experience and career satisfaction gain more salary?\n",
    "3. Does salary increases with higher professional coding experience among Canadian developers if results are divided into male and female? How about ethnicity and organization size?\n",
    "\n",
    "> The answers to these questions can shed some light regarding the consistency of job market in Canada."
   ]
  },
  {
   "cell_type": "markdown",
   "metadata": {},
   "source": [
    "## Data Understanding\n",
    "> In order to have an hollistic understanding of the nature of data from 2017 to 2019 and any inconsistencies between them I am going to import all three data sets and their schema. Required columns for analysis will be selected and the headers and data types along with the subcategories in each column will become consistent for more accurate analysis."
   ]
  },
  {
   "cell_type": "code",
   "execution_count": 1,
   "metadata": {},
   "outputs": [],
   "source": [
    "# import libraries needed\n",
    "import pandas as pd\n",
    "import numpy as np\n",
    "import seaborn as sb\n",
    "import matplotlib.pyplot as plt\n",
    "%matplotlib inline\n",
    "from collections import Counter\n",
    "\n",
    "import warnings\n",
    "warnings.filterwarnings(\"ignore\")"
   ]
  },
  {
   "cell_type": "code",
   "execution_count": 2,
   "metadata": {
    "scrolled": true
   },
   "outputs": [
    {
     "data": {
      "text/html": [
       "<div>\n",
       "<style scoped>\n",
       "    .dataframe tbody tr th:only-of-type {\n",
       "        vertical-align: middle;\n",
       "    }\n",
       "\n",
       "    .dataframe tbody tr th {\n",
       "        vertical-align: top;\n",
       "    }\n",
       "\n",
       "    .dataframe thead th {\n",
       "        text-align: right;\n",
       "    }\n",
       "</style>\n",
       "<table border=\"1\" class=\"dataframe\">\n",
       "  <thead>\n",
       "    <tr style=\"text-align: right;\">\n",
       "      <th></th>\n",
       "      <th>Respondent</th>\n",
       "      <th>Professional</th>\n",
       "      <th>ProgramHobby</th>\n",
       "      <th>Country</th>\n",
       "      <th>University</th>\n",
       "      <th>EmploymentStatus</th>\n",
       "      <th>FormalEducation</th>\n",
       "      <th>MajorUndergrad</th>\n",
       "      <th>HomeRemote</th>\n",
       "      <th>CompanySize</th>\n",
       "      <th>...</th>\n",
       "      <th>StackOverflowMakeMoney</th>\n",
       "      <th>Gender</th>\n",
       "      <th>HighestEducationParents</th>\n",
       "      <th>Race</th>\n",
       "      <th>SurveyLong</th>\n",
       "      <th>QuestionsInteresting</th>\n",
       "      <th>QuestionsConfusing</th>\n",
       "      <th>InterestedAnswers</th>\n",
       "      <th>Salary</th>\n",
       "      <th>ExpectedSalary</th>\n",
       "    </tr>\n",
       "  </thead>\n",
       "  <tbody>\n",
       "    <tr>\n",
       "      <th>0</th>\n",
       "      <td>1</td>\n",
       "      <td>Student</td>\n",
       "      <td>Yes, both</td>\n",
       "      <td>United States</td>\n",
       "      <td>No</td>\n",
       "      <td>Not employed, and not looking for work</td>\n",
       "      <td>Secondary school</td>\n",
       "      <td>NaN</td>\n",
       "      <td>NaN</td>\n",
       "      <td>NaN</td>\n",
       "      <td>...</td>\n",
       "      <td>Strongly disagree</td>\n",
       "      <td>Male</td>\n",
       "      <td>High school</td>\n",
       "      <td>White or of European descent</td>\n",
       "      <td>Strongly disagree</td>\n",
       "      <td>Strongly agree</td>\n",
       "      <td>Disagree</td>\n",
       "      <td>Strongly agree</td>\n",
       "      <td>NaN</td>\n",
       "      <td>NaN</td>\n",
       "    </tr>\n",
       "  </tbody>\n",
       "</table>\n",
       "<p>1 rows × 154 columns</p>\n",
       "</div>"
      ],
      "text/plain": [
       "   Respondent Professional ProgramHobby        Country University  \\\n",
       "0           1      Student    Yes, both  United States         No   \n",
       "\n",
       "                         EmploymentStatus   FormalEducation MajorUndergrad  \\\n",
       "0  Not employed, and not looking for work  Secondary school            NaN   \n",
       "\n",
       "  HomeRemote CompanySize  ... StackOverflowMakeMoney Gender  \\\n",
       "0        NaN         NaN  ...      Strongly disagree   Male   \n",
       "\n",
       "  HighestEducationParents                          Race         SurveyLong  \\\n",
       "0             High school  White or of European descent  Strongly disagree   \n",
       "\n",
       "  QuestionsInteresting QuestionsConfusing InterestedAnswers  Salary  \\\n",
       "0       Strongly agree           Disagree    Strongly agree     NaN   \n",
       "\n",
       "   ExpectedSalary  \n",
       "0             NaN  \n",
       "\n",
       "[1 rows x 154 columns]"
      ]
     },
     "execution_count": 2,
     "metadata": {},
     "output_type": "execute_result"
    }
   ],
   "source": [
    "# read 2017 survey data and pass convertors function in a dictionary to surpass an error for\n",
    "# row_series = df[column].apply(lambda x: x.split(';')) in language_counter function\n",
    "stack_17 = pd.read_csv('stack2017.csv', converters={'HaveWorkedLanguage':str})\n",
    "#pd.set_option('display.max_columns', None)\n",
    "stack_17.head(1)"
   ]
  },
  {
   "cell_type": "code",
   "execution_count": 3,
   "metadata": {},
   "outputs": [
    {
     "data": {
      "text/plain": [
       "(51392, 154)"
      ]
     },
     "execution_count": 3,
     "metadata": {},
     "output_type": "execute_result"
    }
   ],
   "source": [
    "# number of columns and rows\n",
    "stack_17.shape"
   ]
  },
  {
   "cell_type": "code",
   "execution_count": 4,
   "metadata": {},
   "outputs": [],
   "source": [
    "# read 2017 schema\n",
    "#pd.set_option('display.max_rows', None)\n",
    "#pd.set_option('display.max_colwidth', -1)\n",
    "schema_17 = pd.read_csv('stack2017_schema.csv')\n",
    "#schema_17"
   ]
  },
  {
   "cell_type": "code",
   "execution_count": 5,
   "metadata": {},
   "outputs": [],
   "source": [
    "# write a function to draw description from schema for every column interested in\n",
    "def description(df_column, schema, col, question):\n",
    "    '''\n",
    "    INPUT:\n",
    "    df_column - column name in survey dataframe\n",
    "    schema - schema with description of survey columns\n",
    "    col - column heading in schema having the list of column names from survey dataframe\n",
    "    question - column heading in schema having the list of column descriptions\n",
    "    \n",
    "    OUTPUT:\n",
    "    col_desc - description of column name\n",
    "    '''\n",
    "    col_desc = list(schema[schema[col] == df_column][question])[0]\n",
    "    return col_desc"
   ]
  },
  {
   "cell_type": "code",
   "execution_count": 6,
   "metadata": {},
   "outputs": [
    {
     "data": {
      "text/plain": [
       "[{'Country': 'In which country do you currently live?'},\n",
       " {'CompanySize': 'In terms of the number of employees, how large is the company or organization you work for?'},\n",
       " {'EmploymentStatus': 'Which of the following best describes your current employment status?'},\n",
       " {'CareerSatisfaction': 'Career satisfaction rating'},\n",
       " {'YearsCodedJob': 'For how many years have you coded as part of your job?'},\n",
       " {'HaveWorkedLanguage': 'Which of the following languages have you done extensive development work in over the past year, and which do you want to work in over the next year?'},\n",
       " {'WantWorkLanguage': 'Which of the following languages have you done extensive development work in over the past year, and which do you want to work in over the next year?'},\n",
       " {'Gender': 'Which of the following do you currently identify as?'},\n",
       " {'Race': 'Which of the following do you identify as?'},\n",
       " {'Salary': 'What is your current annual base salary, before taxes, and excluding bonuses, grants, or other compensation?'}]"
      ]
     },
     "execution_count": 6,
     "metadata": {},
     "output_type": "execute_result"
    }
   ],
   "source": [
    "# retrieve the description of columns using the description function for 2017\n",
    "list_2017 = ['Country','CompanySize','EmploymentStatus','CareerSatisfaction',\n",
    "            'YearsCodedJob','HaveWorkedLanguage','WantWorkLanguage',\n",
    "            'Gender','Race','Salary']\n",
    "list_desc = []\n",
    "for i in list_2017:\n",
    "    list_desc.append({i:description(i, schema_17, 'Column', 'Question')})\n",
    "    \n",
    "list_desc"
   ]
  },
  {
   "cell_type": "code",
   "execution_count": 7,
   "metadata": {},
   "outputs": [],
   "source": [
    "# subset selected columns from dataframe\n",
    "def subset(df, funclist):\n",
    "    '''\n",
    "    INPUT:\n",
    "    df - dataframe to draw subset from\n",
    "    \n",
    "    OUTPUT:\n",
    "    df_sub - dataframe with selected subset of columns\n",
    "    '''\n",
    "    df_sub = df[funclist]\n",
    "    return df_sub"
   ]
  },
  {
   "cell_type": "code",
   "execution_count": 8,
   "metadata": {
    "scrolled": false
   },
   "outputs": [
    {
     "data": {
      "text/html": [
       "<div>\n",
       "<style scoped>\n",
       "    .dataframe tbody tr th:only-of-type {\n",
       "        vertical-align: middle;\n",
       "    }\n",
       "\n",
       "    .dataframe tbody tr th {\n",
       "        vertical-align: top;\n",
       "    }\n",
       "\n",
       "    .dataframe thead th {\n",
       "        text-align: right;\n",
       "    }\n",
       "</style>\n",
       "<table border=\"1\" class=\"dataframe\">\n",
       "  <thead>\n",
       "    <tr style=\"text-align: right;\">\n",
       "      <th></th>\n",
       "      <th>Country</th>\n",
       "      <th>CompanySize</th>\n",
       "      <th>EmploymentStatus</th>\n",
       "      <th>CareerSatisfaction</th>\n",
       "      <th>YearsCodedJob</th>\n",
       "      <th>HaveWorkedLanguage</th>\n",
       "      <th>WantWorkLanguage</th>\n",
       "      <th>Gender</th>\n",
       "      <th>Race</th>\n",
       "      <th>Salary</th>\n",
       "    </tr>\n",
       "  </thead>\n",
       "  <tbody>\n",
       "    <tr>\n",
       "      <th>0</th>\n",
       "      <td>United States</td>\n",
       "      <td>NaN</td>\n",
       "      <td>Not employed, and not looking for work</td>\n",
       "      <td>NaN</td>\n",
       "      <td>NaN</td>\n",
       "      <td>Swift</td>\n",
       "      <td>Swift</td>\n",
       "      <td>Male</td>\n",
       "      <td>White or of European descent</td>\n",
       "      <td>NaN</td>\n",
       "    </tr>\n",
       "  </tbody>\n",
       "</table>\n",
       "</div>"
      ],
      "text/plain": [
       "         Country CompanySize                        EmploymentStatus  \\\n",
       "0  United States         NaN  Not employed, and not looking for work   \n",
       "\n",
       "   CareerSatisfaction YearsCodedJob HaveWorkedLanguage WantWorkLanguage  \\\n",
       "0                 NaN           NaN              Swift            Swift   \n",
       "\n",
       "  Gender                          Race  Salary  \n",
       "0   Male  White or of European descent     NaN  "
      ]
     },
     "execution_count": 8,
     "metadata": {},
     "output_type": "execute_result"
    }
   ],
   "source": [
    "# create 2017 subset dataframe\n",
    "subset_17 = subset(stack_17, list_2017)\n",
    "subset_17.head(1)"
   ]
  },
  {
   "cell_type": "code",
   "execution_count": 9,
   "metadata": {
    "scrolled": false
   },
   "outputs": [
    {
     "data": {
      "text/html": [
       "<div>\n",
       "<style scoped>\n",
       "    .dataframe tbody tr th:only-of-type {\n",
       "        vertical-align: middle;\n",
       "    }\n",
       "\n",
       "    .dataframe tbody tr th {\n",
       "        vertical-align: top;\n",
       "    }\n",
       "\n",
       "    .dataframe thead th {\n",
       "        text-align: right;\n",
       "    }\n",
       "</style>\n",
       "<table border=\"1\" class=\"dataframe\">\n",
       "  <thead>\n",
       "    <tr style=\"text-align: right;\">\n",
       "      <th></th>\n",
       "      <th>Respondent</th>\n",
       "      <th>Hobby</th>\n",
       "      <th>OpenSource</th>\n",
       "      <th>Country</th>\n",
       "      <th>Student</th>\n",
       "      <th>Employment</th>\n",
       "      <th>FormalEducation</th>\n",
       "      <th>UndergradMajor</th>\n",
       "      <th>CompanySize</th>\n",
       "      <th>DevType</th>\n",
       "      <th>...</th>\n",
       "      <th>Exercise</th>\n",
       "      <th>Gender</th>\n",
       "      <th>SexualOrientation</th>\n",
       "      <th>EducationParents</th>\n",
       "      <th>RaceEthnicity</th>\n",
       "      <th>Age</th>\n",
       "      <th>Dependents</th>\n",
       "      <th>MilitaryUS</th>\n",
       "      <th>SurveyTooLong</th>\n",
       "      <th>SurveyEasy</th>\n",
       "    </tr>\n",
       "  </thead>\n",
       "  <tbody>\n",
       "    <tr>\n",
       "      <th>0</th>\n",
       "      <td>1</td>\n",
       "      <td>Yes</td>\n",
       "      <td>No</td>\n",
       "      <td>Kenya</td>\n",
       "      <td>No</td>\n",
       "      <td>Employed part-time</td>\n",
       "      <td>Bachelor’s degree (BA, BS, B.Eng., etc.)</td>\n",
       "      <td>Mathematics or statistics</td>\n",
       "      <td>20 to 99 employees</td>\n",
       "      <td>Full-stack developer</td>\n",
       "      <td>...</td>\n",
       "      <td>3 - 4 times per week</td>\n",
       "      <td>Male</td>\n",
       "      <td>Straight or heterosexual</td>\n",
       "      <td>Bachelor’s degree (BA, BS, B.Eng., etc.)</td>\n",
       "      <td>Black or of African descent</td>\n",
       "      <td>25 - 34 years old</td>\n",
       "      <td>Yes</td>\n",
       "      <td>NaN</td>\n",
       "      <td>The survey was an appropriate length</td>\n",
       "      <td>Very easy</td>\n",
       "    </tr>\n",
       "  </tbody>\n",
       "</table>\n",
       "<p>1 rows × 129 columns</p>\n",
       "</div>"
      ],
      "text/plain": [
       "   Respondent Hobby OpenSource Country Student          Employment  \\\n",
       "0           1   Yes         No   Kenya      No  Employed part-time   \n",
       "\n",
       "                            FormalEducation             UndergradMajor  \\\n",
       "0  Bachelor’s degree (BA, BS, B.Eng., etc.)  Mathematics or statistics   \n",
       "\n",
       "          CompanySize               DevType  ...              Exercise Gender  \\\n",
       "0  20 to 99 employees  Full-stack developer  ...  3 - 4 times per week   Male   \n",
       "\n",
       "          SexualOrientation                          EducationParents  \\\n",
       "0  Straight or heterosexual  Bachelor’s degree (BA, BS, B.Eng., etc.)   \n",
       "\n",
       "                 RaceEthnicity                Age Dependents  MilitaryUS  \\\n",
       "0  Black or of African descent  25 - 34 years old        Yes         NaN   \n",
       "\n",
       "                          SurveyTooLong  SurveyEasy  \n",
       "0  The survey was an appropriate length   Very easy  \n",
       "\n",
       "[1 rows x 129 columns]"
      ]
     },
     "execution_count": 9,
     "metadata": {},
     "output_type": "execute_result"
    }
   ],
   "source": [
    "# read 2018 data\n",
    "#converters={i: str for i in range(130)}\n",
    "stack_18 = pd.read_csv('stack2018.csv', converters={'LanguageWorkedWith':str})\n",
    "stack_18.head(1)"
   ]
  },
  {
   "cell_type": "code",
   "execution_count": 10,
   "metadata": {},
   "outputs": [
    {
     "data": {
      "text/plain": [
       "(98855, 129)"
      ]
     },
     "execution_count": 10,
     "metadata": {},
     "output_type": "execute_result"
    }
   ],
   "source": [
    "# number of columns and rows\n",
    "stack_18.shape"
   ]
  },
  {
   "cell_type": "code",
   "execution_count": 11,
   "metadata": {
    "scrolled": false
   },
   "outputs": [],
   "source": [
    "# read 2018 schema\n",
    "schema_18 = pd.read_csv('stack2018_schema.csv')\n",
    "#schema_18"
   ]
  },
  {
   "cell_type": "code",
   "execution_count": 12,
   "metadata": {},
   "outputs": [
    {
     "data": {
      "text/plain": [
       "[{'Country': 'In which country do you currently reside?'},\n",
       " {'CompanySize': 'Approximately how many people are employed by the company or organization you work for?'},\n",
       " {'Employment': 'Which of the following best describes your current employment status?'},\n",
       " {'CareerSatisfaction': 'Overall, how satisfied are you with your career thus far?'},\n",
       " {'YearsCodingProf': 'For how many years have you coded professionally (as a part of your work)?'},\n",
       " {'LanguageWorkedWith': 'Which of the following programming, scripting, and markup languages have you done extensive development work in over the past year, and which do you want to work in over the next year?  (If you both worked with the language and want to continue to do so, please check both boxes in that row.)'},\n",
       " {'LanguageDesireNextYear': 'Which of the following programming, scripting, and markup languages have you done extensive development work in over the past year, and which do you want to work in over the next year?  (If you both worked with the language and want to continue to do so, please check both boxes in that row.)'},\n",
       " {'Gender': 'Which of the following do you currently identify as? Please select all that apply. If you prefer not to answer, you may leave this question blank.'},\n",
       " {'RaceEthnicity': 'Which of the following do you identify as? Please check all that apply. If you prefer not to answer, you may leave this question blank.'},\n",
       " {'ConvertedSalary': 'Salary converted to annual USD salaries using the exchange rate on 2018-01-18, assuming 12 working months and 50 working weeks.'}]"
      ]
     },
     "execution_count": 12,
     "metadata": {},
     "output_type": "execute_result"
    }
   ],
   "source": [
    "# retrieve the description of columns using the description function for 2018\n",
    "list_2018 = ['Country','CompanySize','Employment','CareerSatisfaction',\n",
    "            'YearsCodingProf','LanguageWorkedWith','LanguageDesireNextYear',\n",
    "            'Gender', 'RaceEthnicity','ConvertedSalary']\n",
    "list_desc = []\n",
    "for i in list_2018:\n",
    "    list_desc.append({i:description(i, schema_18, 'Column', 'QuestionText')})\n",
    "    \n",
    "list_desc"
   ]
  },
  {
   "cell_type": "code",
   "execution_count": 13,
   "metadata": {},
   "outputs": [
    {
     "data": {
      "text/html": [
       "<div>\n",
       "<style scoped>\n",
       "    .dataframe tbody tr th:only-of-type {\n",
       "        vertical-align: middle;\n",
       "    }\n",
       "\n",
       "    .dataframe tbody tr th {\n",
       "        vertical-align: top;\n",
       "    }\n",
       "\n",
       "    .dataframe thead th {\n",
       "        text-align: right;\n",
       "    }\n",
       "</style>\n",
       "<table border=\"1\" class=\"dataframe\">\n",
       "  <thead>\n",
       "    <tr style=\"text-align: right;\">\n",
       "      <th></th>\n",
       "      <th>Country</th>\n",
       "      <th>CompanySize</th>\n",
       "      <th>Employment</th>\n",
       "      <th>CareerSatisfaction</th>\n",
       "      <th>YearsCodingProf</th>\n",
       "      <th>LanguageWorkedWith</th>\n",
       "      <th>LanguageDesireNextYear</th>\n",
       "      <th>Gender</th>\n",
       "      <th>RaceEthnicity</th>\n",
       "      <th>ConvertedSalary</th>\n",
       "    </tr>\n",
       "  </thead>\n",
       "  <tbody>\n",
       "    <tr>\n",
       "      <th>0</th>\n",
       "      <td>Kenya</td>\n",
       "      <td>20 to 99 employees</td>\n",
       "      <td>Employed part-time</td>\n",
       "      <td>Extremely satisfied</td>\n",
       "      <td>3-5 years</td>\n",
       "      <td>JavaScript;Python;HTML;CSS</td>\n",
       "      <td>JavaScript;Python;HTML;CSS</td>\n",
       "      <td>Male</td>\n",
       "      <td>Black or of African descent</td>\n",
       "      <td>NaN</td>\n",
       "    </tr>\n",
       "    <tr>\n",
       "      <th>1</th>\n",
       "      <td>United Kingdom</td>\n",
       "      <td>10,000 or more employees</td>\n",
       "      <td>Employed full-time</td>\n",
       "      <td>Neither satisfied nor dissatisfied</td>\n",
       "      <td>18-20 years</td>\n",
       "      <td>JavaScript;Python;Bash/Shell</td>\n",
       "      <td>Go;Python</td>\n",
       "      <td>Male</td>\n",
       "      <td>White or of European descent</td>\n",
       "      <td>70841.0</td>\n",
       "    </tr>\n",
       "    <tr>\n",
       "      <th>2</th>\n",
       "      <td>United States</td>\n",
       "      <td>20 to 99 employees</td>\n",
       "      <td>Employed full-time</td>\n",
       "      <td>Moderately satisfied</td>\n",
       "      <td>6-8 years</td>\n",
       "      <td>NA</td>\n",
       "      <td>NaN</td>\n",
       "      <td>NaN</td>\n",
       "      <td>NaN</td>\n",
       "      <td>NaN</td>\n",
       "    </tr>\n",
       "  </tbody>\n",
       "</table>\n",
       "</div>"
      ],
      "text/plain": [
       "          Country               CompanySize          Employment  \\\n",
       "0           Kenya        20 to 99 employees  Employed part-time   \n",
       "1  United Kingdom  10,000 or more employees  Employed full-time   \n",
       "2   United States        20 to 99 employees  Employed full-time   \n",
       "\n",
       "                   CareerSatisfaction YearsCodingProf  \\\n",
       "0                 Extremely satisfied       3-5 years   \n",
       "1  Neither satisfied nor dissatisfied     18-20 years   \n",
       "2                Moderately satisfied       6-8 years   \n",
       "\n",
       "             LanguageWorkedWith      LanguageDesireNextYear Gender  \\\n",
       "0    JavaScript;Python;HTML;CSS  JavaScript;Python;HTML;CSS   Male   \n",
       "1  JavaScript;Python;Bash/Shell                   Go;Python   Male   \n",
       "2                            NA                         NaN    NaN   \n",
       "\n",
       "                  RaceEthnicity  ConvertedSalary  \n",
       "0   Black or of African descent              NaN  \n",
       "1  White or of European descent          70841.0  \n",
       "2                           NaN              NaN  "
      ]
     },
     "execution_count": 13,
     "metadata": {},
     "output_type": "execute_result"
    }
   ],
   "source": [
    "# create 2018 subset dataframe\n",
    "subset_18 = subset(stack_18, list_2018)\n",
    "subset_18.head(3)"
   ]
  },
  {
   "cell_type": "code",
   "execution_count": 14,
   "metadata": {
    "scrolled": false
   },
   "outputs": [
    {
     "data": {
      "text/html": [
       "<div>\n",
       "<style scoped>\n",
       "    .dataframe tbody tr th:only-of-type {\n",
       "        vertical-align: middle;\n",
       "    }\n",
       "\n",
       "    .dataframe tbody tr th {\n",
       "        vertical-align: top;\n",
       "    }\n",
       "\n",
       "    .dataframe thead th {\n",
       "        text-align: right;\n",
       "    }\n",
       "</style>\n",
       "<table border=\"1\" class=\"dataframe\">\n",
       "  <thead>\n",
       "    <tr style=\"text-align: right;\">\n",
       "      <th></th>\n",
       "      <th>Respondent</th>\n",
       "      <th>MainBranch</th>\n",
       "      <th>Hobbyist</th>\n",
       "      <th>OpenSourcer</th>\n",
       "      <th>OpenSource</th>\n",
       "      <th>Employment</th>\n",
       "      <th>Country</th>\n",
       "      <th>Student</th>\n",
       "      <th>EdLevel</th>\n",
       "      <th>UndergradMajor</th>\n",
       "      <th>...</th>\n",
       "      <th>WelcomeChange</th>\n",
       "      <th>SONewContent</th>\n",
       "      <th>Age</th>\n",
       "      <th>Gender</th>\n",
       "      <th>Trans</th>\n",
       "      <th>Sexuality</th>\n",
       "      <th>Ethnicity</th>\n",
       "      <th>Dependents</th>\n",
       "      <th>SurveyLength</th>\n",
       "      <th>SurveyEase</th>\n",
       "    </tr>\n",
       "  </thead>\n",
       "  <tbody>\n",
       "    <tr>\n",
       "      <th>0</th>\n",
       "      <td>1</td>\n",
       "      <td>I am a student who is learning to code</td>\n",
       "      <td>Yes</td>\n",
       "      <td>Never</td>\n",
       "      <td>The quality of OSS and closed source software ...</td>\n",
       "      <td>Not employed, and not looking for work</td>\n",
       "      <td>United Kingdom</td>\n",
       "      <td>No</td>\n",
       "      <td>Primary/elementary school</td>\n",
       "      <td>NaN</td>\n",
       "      <td>...</td>\n",
       "      <td>Just as welcome now as I felt last year</td>\n",
       "      <td>Tech articles written by other developers;Indu...</td>\n",
       "      <td>14.0</td>\n",
       "      <td>Man</td>\n",
       "      <td>No</td>\n",
       "      <td>Straight / Heterosexual</td>\n",
       "      <td>NaN</td>\n",
       "      <td>No</td>\n",
       "      <td>Appropriate in length</td>\n",
       "      <td>Neither easy nor difficult</td>\n",
       "    </tr>\n",
       "    <tr>\n",
       "      <th>1</th>\n",
       "      <td>2</td>\n",
       "      <td>I am a student who is learning to code</td>\n",
       "      <td>No</td>\n",
       "      <td>Less than once per year</td>\n",
       "      <td>The quality of OSS and closed source software ...</td>\n",
       "      <td>Not employed, but looking for work</td>\n",
       "      <td>Bosnia and Herzegovina</td>\n",
       "      <td>Yes, full-time</td>\n",
       "      <td>Secondary school (e.g. American high school, G...</td>\n",
       "      <td>NaN</td>\n",
       "      <td>...</td>\n",
       "      <td>Just as welcome now as I felt last year</td>\n",
       "      <td>Tech articles written by other developers;Indu...</td>\n",
       "      <td>19.0</td>\n",
       "      <td>Man</td>\n",
       "      <td>No</td>\n",
       "      <td>Straight / Heterosexual</td>\n",
       "      <td>NaN</td>\n",
       "      <td>No</td>\n",
       "      <td>Appropriate in length</td>\n",
       "      <td>Neither easy nor difficult</td>\n",
       "    </tr>\n",
       "  </tbody>\n",
       "</table>\n",
       "<p>2 rows × 85 columns</p>\n",
       "</div>"
      ],
      "text/plain": [
       "   Respondent                              MainBranch Hobbyist  \\\n",
       "0           1  I am a student who is learning to code      Yes   \n",
       "1           2  I am a student who is learning to code       No   \n",
       "\n",
       "               OpenSourcer                                         OpenSource  \\\n",
       "0                    Never  The quality of OSS and closed source software ...   \n",
       "1  Less than once per year  The quality of OSS and closed source software ...   \n",
       "\n",
       "                               Employment                 Country  \\\n",
       "0  Not employed, and not looking for work          United Kingdom   \n",
       "1      Not employed, but looking for work  Bosnia and Herzegovina   \n",
       "\n",
       "          Student                                            EdLevel  \\\n",
       "0              No                          Primary/elementary school   \n",
       "1  Yes, full-time  Secondary school (e.g. American high school, G...   \n",
       "\n",
       "  UndergradMajor  ...                            WelcomeChange  \\\n",
       "0            NaN  ...  Just as welcome now as I felt last year   \n",
       "1            NaN  ...  Just as welcome now as I felt last year   \n",
       "\n",
       "                                        SONewContent   Age Gender Trans  \\\n",
       "0  Tech articles written by other developers;Indu...  14.0    Man    No   \n",
       "1  Tech articles written by other developers;Indu...  19.0    Man    No   \n",
       "\n",
       "                 Sexuality Ethnicity Dependents           SurveyLength  \\\n",
       "0  Straight / Heterosexual       NaN         No  Appropriate in length   \n",
       "1  Straight / Heterosexual       NaN         No  Appropriate in length   \n",
       "\n",
       "                   SurveyEase  \n",
       "0  Neither easy nor difficult  \n",
       "1  Neither easy nor difficult  \n",
       "\n",
       "[2 rows x 85 columns]"
      ]
     },
     "execution_count": 14,
     "metadata": {},
     "output_type": "execute_result"
    }
   ],
   "source": [
    "# read 2019 dataframe\n",
    "#pd.set_option('display.max_columns', None)\n",
    "#converters={i: str for i in range(86)}\n",
    "stack_19 = pd.read_csv('stack2019.csv', converters={'LanguageWorkedWith':str})\n",
    "stack_19.head(2)"
   ]
  },
  {
   "cell_type": "code",
   "execution_count": 15,
   "metadata": {},
   "outputs": [
    {
     "data": {
      "text/plain": [
       "(88883, 85)"
      ]
     },
     "execution_count": 15,
     "metadata": {},
     "output_type": "execute_result"
    }
   ],
   "source": [
    "# number of rows and columns for 2019\n",
    "stack_19.shape"
   ]
  },
  {
   "cell_type": "code",
   "execution_count": 16,
   "metadata": {},
   "outputs": [],
   "source": [
    "# read 2019 schema\n",
    "#pd.set_option('display.max_rows', None)\n",
    "schema_19 = pd.read_csv('stack2019_schema.csv')\n",
    "#schema_19"
   ]
  },
  {
   "cell_type": "code",
   "execution_count": 17,
   "metadata": {},
   "outputs": [
    {
     "data": {
      "text/plain": [
       "[{'Country': 'In which country do you currently reside?'},\n",
       " {'OrgSize': 'Approximately how many people are employed by the company or organization you work for?'},\n",
       " {'Employment': 'Which of the following best describes your current employment status?'},\n",
       " {'CareerSat': 'Overall, how satisfied are you with your career thus far?'},\n",
       " {'YearsCodePro': 'How many years have you coded professionally (as a part of your work)?'},\n",
       " {'LanguageWorkedWith': 'Which of the following programming, scripting, and markup languages have you done extensive development work in over the past year, and which do you want to work in over the next year?  (If you both worked with the language and want to continue to do so, please check both boxes in that row.)'},\n",
       " {'LanguageDesireNextYear': 'Which of the following programming, scripting, and markup languages have you done extensive development work in over the past year, and which do you want to work in over the next year?  (If you both worked with the language and want to continue to do so, please check both boxes in that row.)'},\n",
       " {'Gender': 'Which of the following do you currently identify as? Please select all that apply. If you prefer not to answer, you may leave this question blank.'},\n",
       " {'Ethnicity': 'Which of the following do you identify as? Please check all that apply. If you prefer not to answer, you may leave this question blank.'},\n",
       " {'ConvertedComp': 'Salary converted to annual USD salaries using the exchange rate on 2019-02-01, assuming 12 working months and 50 working weeks.'}]"
      ]
     },
     "execution_count": 17,
     "metadata": {},
     "output_type": "execute_result"
    }
   ],
   "source": [
    "# retrieve the description of columns using the description function for 2019\n",
    "list_2019 = ['Country','OrgSize','Employment','CareerSat',\n",
    "            'YearsCodePro','LanguageWorkedWith','LanguageDesireNextYear',\n",
    "            'Gender','Ethnicity','ConvertedComp']\n",
    "list_desc = []\n",
    "for i in list_2019:\n",
    "    list_desc.append({i:description(i, schema_19, 'Column', 'QuestionText')})\n",
    "list_desc"
   ]
  },
  {
   "cell_type": "code",
   "execution_count": 18,
   "metadata": {},
   "outputs": [
    {
     "data": {
      "text/html": [
       "<div>\n",
       "<style scoped>\n",
       "    .dataframe tbody tr th:only-of-type {\n",
       "        vertical-align: middle;\n",
       "    }\n",
       "\n",
       "    .dataframe tbody tr th {\n",
       "        vertical-align: top;\n",
       "    }\n",
       "\n",
       "    .dataframe thead th {\n",
       "        text-align: right;\n",
       "    }\n",
       "</style>\n",
       "<table border=\"1\" class=\"dataframe\">\n",
       "  <thead>\n",
       "    <tr style=\"text-align: right;\">\n",
       "      <th></th>\n",
       "      <th>Country</th>\n",
       "      <th>OrgSize</th>\n",
       "      <th>Employment</th>\n",
       "      <th>CareerSat</th>\n",
       "      <th>YearsCodePro</th>\n",
       "      <th>LanguageWorkedWith</th>\n",
       "      <th>LanguageDesireNextYear</th>\n",
       "      <th>Gender</th>\n",
       "      <th>Ethnicity</th>\n",
       "      <th>ConvertedComp</th>\n",
       "    </tr>\n",
       "  </thead>\n",
       "  <tbody>\n",
       "    <tr>\n",
       "      <th>0</th>\n",
       "      <td>United Kingdom</td>\n",
       "      <td>NaN</td>\n",
       "      <td>Not employed, and not looking for work</td>\n",
       "      <td>NaN</td>\n",
       "      <td>NaN</td>\n",
       "      <td>HTML/CSS;Java;JavaScript;Python</td>\n",
       "      <td>C;C++;C#;Go;HTML/CSS;Java;JavaScript;Python;SQL</td>\n",
       "      <td>Man</td>\n",
       "      <td>NaN</td>\n",
       "      <td>NaN</td>\n",
       "    </tr>\n",
       "    <tr>\n",
       "      <th>1</th>\n",
       "      <td>Bosnia and Herzegovina</td>\n",
       "      <td>NaN</td>\n",
       "      <td>Not employed, but looking for work</td>\n",
       "      <td>NaN</td>\n",
       "      <td>NaN</td>\n",
       "      <td>C++;HTML/CSS;Python</td>\n",
       "      <td>C++;HTML/CSS;JavaScript;SQL</td>\n",
       "      <td>Man</td>\n",
       "      <td>NaN</td>\n",
       "      <td>NaN</td>\n",
       "    </tr>\n",
       "    <tr>\n",
       "      <th>2</th>\n",
       "      <td>Thailand</td>\n",
       "      <td>100 to 499 employees</td>\n",
       "      <td>Employed full-time</td>\n",
       "      <td>Slightly satisfied</td>\n",
       "      <td>1</td>\n",
       "      <td>HTML/CSS</td>\n",
       "      <td>Elixir;HTML/CSS</td>\n",
       "      <td>Man</td>\n",
       "      <td>NaN</td>\n",
       "      <td>8820.0</td>\n",
       "    </tr>\n",
       "  </tbody>\n",
       "</table>\n",
       "</div>"
      ],
      "text/plain": [
       "                  Country               OrgSize  \\\n",
       "0          United Kingdom                   NaN   \n",
       "1  Bosnia and Herzegovina                   NaN   \n",
       "2                Thailand  100 to 499 employees   \n",
       "\n",
       "                               Employment           CareerSat YearsCodePro  \\\n",
       "0  Not employed, and not looking for work                 NaN          NaN   \n",
       "1      Not employed, but looking for work                 NaN          NaN   \n",
       "2                      Employed full-time  Slightly satisfied            1   \n",
       "\n",
       "                LanguageWorkedWith  \\\n",
       "0  HTML/CSS;Java;JavaScript;Python   \n",
       "1              C++;HTML/CSS;Python   \n",
       "2                         HTML/CSS   \n",
       "\n",
       "                            LanguageDesireNextYear Gender Ethnicity  \\\n",
       "0  C;C++;C#;Go;HTML/CSS;Java;JavaScript;Python;SQL    Man       NaN   \n",
       "1                      C++;HTML/CSS;JavaScript;SQL    Man       NaN   \n",
       "2                                  Elixir;HTML/CSS    Man       NaN   \n",
       "\n",
       "   ConvertedComp  \n",
       "0            NaN  \n",
       "1            NaN  \n",
       "2         8820.0  "
      ]
     },
     "execution_count": 18,
     "metadata": {},
     "output_type": "execute_result"
    }
   ],
   "source": [
    "# create 2019 subset dataframe\n",
    "subset_19 = subset(stack_19, list_2019)\n",
    "subset_19.head(3)"
   ]
  },
  {
   "cell_type": "code",
   "execution_count": 19,
   "metadata": {
    "scrolled": false
   },
   "outputs": [
    {
     "name": "stdout",
     "output_type": "stream",
     "text": [
      "<class 'pandas.core.frame.DataFrame'>\n",
      "RangeIndex: 51392 entries, 0 to 51391\n",
      "Data columns (total 10 columns):\n",
      "Country               51392 non-null object\n",
      "CompanySize           38922 non-null object\n",
      "EmploymentStatus      51392 non-null object\n",
      "CareerSatisfaction    42695 non-null float64\n",
      "YearsCodedJob         40890 non-null object\n",
      "HaveWorkedLanguage    51392 non-null object\n",
      "WantWorkLanguage      33771 non-null object\n",
      "Gender                35047 non-null object\n",
      "Race                  33033 non-null object\n",
      "Salary                12891 non-null float64\n",
      "dtypes: float64(2), object(8)\n",
      "memory usage: 3.9+ MB\n"
     ]
    }
   ],
   "source": [
    "# 2017 data types and null values\n",
    "subset_17.info()"
   ]
  },
  {
   "cell_type": "markdown",
   "metadata": {},
   "source": [
    "## Data Preparation\n",
    "> In this section data will be cleaned and prepared for analysis and visualization. A consistent and coherent clean master data will be developed for final analysis."
   ]
  },
  {
   "cell_type": "code",
   "execution_count": 20,
   "metadata": {
    "scrolled": true
   },
   "outputs": [
    {
     "name": "stdout",
     "output_type": "stream",
     "text": [
      "['Country', 'OrgSize', 'Employment', 'CareerSat', 'YearsCodePro', 'LanguageWorkedWith', 'LanguageDesireNextYear', 'Gender', 'Ethnicity', 'ConvertedComp']\n",
      "['Country', 'CompanySize', 'Employment', 'CareerSatisfaction', 'YearsCodingProf', 'LanguageWorkedWith', 'LanguageDesireNextYear', 'Gender', 'RaceEthnicity', 'ConvertedSalary']\n",
      "['Country', 'CompanySize', 'EmploymentStatus', 'CareerSatisfaction', 'YearsCodedJob', 'HaveWorkedLanguage', 'WantWorkLanguage', 'Gender', 'Race', 'Salary']\n"
     ]
    }
   ],
   "source": [
    "# print list of columns from 2019, 18, and 17 datasets\n",
    "subset_list = [subset_19, subset_18, subset_17]\n",
    "for i in subset_list:\n",
    "    x = list(i.columns.values)\n",
    "    print(x)"
   ]
  },
  {
   "cell_type": "code",
   "execution_count": 21,
   "metadata": {},
   "outputs": [],
   "source": [
    "# rename 2019,2018 and 2017 columns to be consistent\n",
    "subset_19 = subset_19.rename(index=str,columns={'ConvertedComp':'Salary'})\n",
    "subset_18 = subset_18.rename(index=str,columns={'CompanySize':'OrgSize',\n",
    "                                                'CareerSatisfaction':'CareerSat',\n",
    "                                                'YearsCodingProf':'YearsCodePro',\n",
    "                                                'RaceEthnicity':'Ethnicity',\n",
    "                                               'ConvertedSalary':'Salary'})\n",
    "subset_17 = subset_17.rename(index=str,columns={'CompanySize':'OrgSize',\n",
    "                                                'EmploymentStatus':'Employment',\n",
    "                                                'CareerSatisfaction':'CareerSat',\n",
    "                                                'YearsCodedJob':'YearsCodePro',\n",
    "                                                'HaveWorkedLanguage':'LanguageWorkedWith',\n",
    "                                                'WantWorkLanguage':'LanguageDesireNextYear',\n",
    "                                                'Race':'Ethnicity'})"
   ]
  },
  {
   "cell_type": "code",
   "execution_count": 22,
   "metadata": {},
   "outputs": [
    {
     "data": {
      "image/png": "[encoded data removed]",
      "text/plain": [
       "<Figure size 432x288 with 1 Axes>"
      ]
     },
     "metadata": {
      "needs_background": "light"
     },
     "output_type": "display_data"
    },
    {
     "data": {
      "image/png": "[encoded data removed]",
      "text/plain": [
       "<Figure size 432x288 with 1 Axes>"
      ]
     },
     "metadata": {
      "needs_background": "light"
     },
     "output_type": "display_data"
    },
    {
     "data": {
      "image/png": "[encoded data removed]",
      "text/plain": [
       "<Figure size 432x288 with 1 Axes>"
      ]
     },
     "metadata": {
      "needs_background": "light"
     },
     "output_type": "display_data"
    }
   ],
   "source": [
    "# define function to draw barplot\n",
    "def bar_chart (df, column, title):\n",
    "    '''\n",
    "    INPUT:\n",
    "    df - name of dataframe\n",
    "    column - the column having list of countries\n",
    "    \n",
    "    OUTPUT:\n",
    "    barchart\n",
    "    '''\n",
    "    country_vals = df[column].value_counts()\n",
    "    (country_vals[:20]/df.shape[0]).plot(kind='bar');\n",
    "    plt.title(title);\n",
    "\n",
    "# draw barchart of number of developer per country\n",
    "subset_list = [subset_19, subset_18, subset_17]\n",
    "year_list = ['2019', '2018', '2017']\n",
    "j=0\n",
    "for i in subset_list:\n",
    "    bar_chart(i, 'Country', year_list[j])\n",
    "    plt.show()\n",
    "    j = j+1"
   ]
  },
  {
   "cell_type": "code",
   "execution_count": 23,
   "metadata": {
    "scrolled": true
   },
   "outputs": [
    {
     "name": "stdout",
     "output_type": "stream",
     "text": [
      "Top 20 countries in number of developers participating in 2019 survey\n",
      "['United States', 'India', 'Germany', 'United Kingdom', 'Canada', 'France', 'Brazil', 'Poland', 'Australia', 'Netherlands', 'Russian Federation', 'Spain', 'Italy', 'Sweden', 'Switzerland', 'Israel', 'Turkey', 'Pakistan', 'Ukraine', 'Austria'] \n",
      "\n",
      "Top 20 countries in number of developers participating in 2018 survey\n",
      "['United States', 'India', 'Germany', 'United Kingdom', 'Canada', 'Russian Federation', 'France', 'Brazil', 'Poland', 'Australia', 'Netherlands', 'Spain', 'Italy', 'Ukraine', 'Sweden', 'Pakistan', 'China', 'Switzerland', 'Turkey', 'Israel'] \n",
      "\n",
      "Top 20 countries in number of developers participating in 2017 survey\n",
      "['United States', 'India', 'United Kingdom', 'Germany', 'Canada', 'France', 'Poland', 'Australia', 'Russian Federation', 'Spain', 'Netherlands', 'Italy', 'Brazil', 'Sweden', 'Switzerland', 'Israel', 'Romania', 'Iran', 'Austria', 'Pakistan'] \n",
      "\n"
     ]
    }
   ],
   "source": [
    "# draw the list of top 20 countries with highest number of developers participated in surveys\n",
    "subset_list = [subset_19, subset_18, subset_17]\n",
    "year_list = ['2019', '2018', '2017']\n",
    "j=0\n",
    "for i in subset_list:\n",
    "    x = list(i['Country'].value_counts()[:20].index.tolist())\n",
    "    print('Top 20 countries in number of developers participating in {} survey'.format(year_list[j]))\n",
    "    print (x , \"\\n\")\n",
    "    j=j+1"
   ]
  },
  {
   "cell_type": "code",
   "execution_count": 24,
   "metadata": {},
   "outputs": [],
   "source": [
    "# write a function to take a subset of top 20 countries and aggregate others as Other\n",
    "def clean_countries(df, column, top20_list):\n",
    "    '''\n",
    "    INPUT:\n",
    "    df - dataframe\n",
    "    column - column in dataframe\n",
    "    top20_list - list of top 20 countries with highest number of participants\n",
    "    \n",
    "    OUTPUT: dataframe with top 20 countries and other countries as other in Country column\n",
    "    '''\n",
    "    df[column] = df[column].apply(lambda x: x if x in top20_list else (np.nan if pd.isnull(x) else 'Other'))\n",
    "    return df[column].value_counts()"
   ]
  },
  {
   "cell_type": "code",
   "execution_count": 25,
   "metadata": {},
   "outputs": [
    {
     "data": {
      "text/plain": [
       "Other                 22070\n",
       "United States         20949\n",
       "India                  9061\n",
       "Germany                5866\n",
       "United Kingdom         5737\n",
       "Canada                 3395\n",
       "France                 2391\n",
       "Brazil                 1948\n",
       "Poland                 1922\n",
       "Australia              1903\n",
       "Netherlands            1852\n",
       "Russian Federation     1694\n",
       "Spain                  1604\n",
       "Italy                  1576\n",
       "Sweden                 1274\n",
       "Switzerland             978\n",
       "Israel                  952\n",
       "Turkey                  949\n",
       "Pakistan                923\n",
       "Ukraine                 868\n",
       "Austria                 839\n",
       "Name: Country, dtype: int64"
      ]
     },
     "execution_count": 25,
     "metadata": {},
     "output_type": "execute_result"
    }
   ],
   "source": [
    "# top 20 of 2019\n",
    "top20_2019 = ['United States', 'India', 'Germany', 'United Kingdom', 'Canada', 'France', 'Brazil', 'Poland',\n",
    "              'Australia', 'Netherlands', 'Russian Federation', 'Spain', 'Italy', 'Sweden', 'Switzerland',\n",
    "              'Israel', 'Turkey', 'Pakistan', 'Ukraine', 'Austria']\n",
    "clean_countries(subset_19, 'Country', top20_2019)"
   ]
  },
  {
   "cell_type": "code",
   "execution_count": 26,
   "metadata": {},
   "outputs": [
    {
     "data": {
      "text/plain": [
       "Other                 23562\n",
       "United States         20309\n",
       "India                 13721\n",
       "Germany                6459\n",
       "United Kingdom         6221\n",
       "Canada                 3393\n",
       "Russian Federation     2869\n",
       "France                 2572\n",
       "Brazil                 2505\n",
       "Poland                 2122\n",
       "Australia              2018\n",
       "Netherlands            1841\n",
       "Spain                  1769\n",
       "Italy                  1535\n",
       "Ukraine                1279\n",
       "Sweden                 1164\n",
       "Pakistan               1050\n",
       "China                  1037\n",
       "Switzerland            1010\n",
       "Turkey                 1004\n",
       "Israel                 1003\n",
       "Name: Country, dtype: int64"
      ]
     },
     "execution_count": 26,
     "metadata": {},
     "output_type": "execute_result"
    }
   ],
   "source": [
    "# top 20 of 2018\n",
    "top20_2018 = ['United States', 'India', 'Germany', 'United Kingdom', 'Canada', 'Russian Federation', 'France',\n",
    "              'Brazil', 'Poland', 'Australia', 'Netherlands', 'Spain', 'Italy', 'Ukraine', 'Sweden', 'Pakistan',\n",
    "              'China', 'Switzerland', 'Turkey', 'Israel']\n",
    "clean_countries(subset_18, 'Country', top20_2018)"
   ]
  },
  {
   "cell_type": "code",
   "execution_count": 27,
   "metadata": {},
   "outputs": [
    {
     "data": {
      "text/plain": [
       "Other                 12096\n",
       "United States         11455\n",
       "India                  5197\n",
       "United Kingdom         4395\n",
       "Germany                4143\n",
       "Canada                 2233\n",
       "France                 1740\n",
       "Poland                 1290\n",
       "Australia               913\n",
       "Russian Federation      873\n",
       "Spain                   864\n",
       "Netherlands             855\n",
       "Italy                   781\n",
       "Brazil                  777\n",
       "Sweden                  611\n",
       "Switzerland             595\n",
       "Israel                  575\n",
       "Romania                 561\n",
       "Iran                    507\n",
       "Austria                 477\n",
       "Pakistan                454\n",
       "Name: Country, dtype: int64"
      ]
     },
     "execution_count": 27,
     "metadata": {},
     "output_type": "execute_result"
    }
   ],
   "source": [
    "# top 20 of 2018\n",
    "top20_2017 = ['United States', 'India', 'United Kingdom', 'Germany', 'Canada', 'France', 'Poland', 'Australia',\n",
    "              'Russian Federation', 'Spain', 'Netherlands', 'Italy', 'Brazil', 'Sweden', 'Switzerland', 'Israel',\n",
    "              'Romania', 'Iran', 'Austria', 'Pakistan']\n",
    "clean_countries(subset_17, 'Country', top20_2017)"
   ]
  },
  {
   "cell_type": "code",
   "execution_count": 28,
   "metadata": {},
   "outputs": [
    {
     "name": "stdout",
     "output_type": "stream",
     "text": [
      "2019\n",
      "[nan, '100 to 499 employees', '10,000 or more employees', 'Just me - I am a freelancer, sole proprietor, etc.', '10 to 19 employees', '20 to 99 employees', '1,000 to 4,999 employees', '2-9 employees', '500 to 999 employees', '5,000 to 9,999 employees'] \n",
      "\n",
      "2018\n",
      "['20 to 99 employees', '10,000 or more employees', '100 to 499 employees', '10 to 19 employees', '500 to 999 employees', '1,000 to 4,999 employees', '5,000 to 9,999 employees', 'Fewer than 10 employees', nan] \n",
      "\n",
      "2017\n",
      "[nan, '20 to 99 employees', '10,000 or more employees', '10 to 19 employees', 'Fewer than 10 employees', '5,000 to 9,999 employees', '100 to 499 employees', '1,000 to 4,999 employees', '500 to 999 employees', \"I don't know\", 'I prefer not to answer'] \n",
      "\n"
     ]
    }
   ],
   "source": [
    "# function to list values in OrgSize column\n",
    "subset_list = [subset_19, subset_18, subset_17]\n",
    "year_list = ['2019', '2018', '2017']\n",
    "def values(column):\n",
    "    '''\n",
    "    INPUT:\n",
    "    column - The same column of all 2017, 2018, and 2019 dataframes\n",
    "    \n",
    "    OUTPUT: Values within the same column from all years\n",
    "    '''\n",
    "    j=0\n",
    "    for i in subset_list:\n",
    "        x = i[column].unique()\n",
    "        print('{}'.format(year_list[j]))\n",
    "        print(list(x),\"\\n\")\n",
    "        j=j+1\n",
    "    return\n",
    "\n",
    "# run the function\n",
    "values('OrgSize')"
   ]
  },
  {
   "cell_type": "code",
   "execution_count": 29,
   "metadata": {},
   "outputs": [
    {
     "data": {
      "text/plain": [
       "array([nan, '100 to 499 employees', '10,000 or more employees',\n",
       "       'Fewer than 10 employees', '10 to 19 employees',\n",
       "       '20 to 99 employees', '1,000 to 4,999 employees',\n",
       "       '500 to 999 employees', '5,000 to 9,999 employees'], dtype=object)"
      ]
     },
     "execution_count": 29,
     "metadata": {},
     "output_type": "execute_result"
    }
   ],
   "source": [
    "# to make years consistent pool 'Just me - I am a freelancer, sole proprietor, etc.' and '2-9 employees'\n",
    "# as 'Fewer than 10 employees' and overwrite in the same column\n",
    "def substitute(df, column, values, target):\n",
    "    '''\n",
    "    INPUT:\n",
    "    df - dataframe\n",
    "    column - column in dataframe\n",
    "    values - list of values in column to be replaced\n",
    "    target - target values to substitute with older values\n",
    "    \n",
    "    OUTPUT:\n",
    "    unique values in the column having replaced new values\n",
    "    '''\n",
    "    for i in values:\n",
    "        df.loc[df[column] == i, column] = target\n",
    "    return df[column].unique()\n",
    "\n",
    "# run the function for 2019\n",
    "substitute(subset_19, 'OrgSize',\n",
    "           ['Just me - I am a freelancer, sole proprietor, etc.', '2-9 employees'], 'Fewer than 10 employees')"
   ]
  },
  {
   "cell_type": "code",
   "execution_count": 30,
   "metadata": {},
   "outputs": [
    {
     "data": {
      "text/plain": [
       "array([nan, '20 to 99 employees', '10,000 or more employees',\n",
       "       '10 to 19 employees', 'Fewer than 10 employees',\n",
       "       '5,000 to 9,999 employees', '100 to 499 employees',\n",
       "       '1,000 to 4,999 employees', '500 to 999 employees'], dtype=object)"
      ]
     },
     "execution_count": 30,
     "metadata": {},
     "output_type": "execute_result"
    }
   ],
   "source": [
    "# run the function for 2017\n",
    "substitute(subset_17, 'OrgSize',\n",
    "           [\"I don't know\", 'I prefer not to answer'], np.nan)"
   ]
  },
  {
   "cell_type": "code",
   "execution_count": 31,
   "metadata": {
    "scrolled": false
   },
   "outputs": [
    {
     "name": "stdout",
     "output_type": "stream",
     "text": [
      "2019\n",
      "['Not employed, and not looking for work', 'Not employed, but looking for work', 'Employed full-time', 'Independent contractor, freelancer, or self-employed', nan, 'Employed part-time', 'Retired'] \n",
      "\n",
      "2018\n",
      "['Employed part-time', 'Employed full-time', 'Independent contractor, freelancer, or self-employed', 'Not employed, and not looking for work', 'Not employed, but looking for work', nan, 'Retired'] \n",
      "\n",
      "2017\n",
      "['Not employed, and not looking for work', 'Employed part-time', 'Employed full-time', 'Independent contractor, freelancer, or self-employed', 'Not employed, but looking for work', 'I prefer not to say', 'Retired'] \n",
      "\n"
     ]
    }
   ],
   "source": [
    "# list of values in Employment column\n",
    "values('Employment')"
   ]
  },
  {
   "cell_type": "code",
   "execution_count": 32,
   "metadata": {},
   "outputs": [
    {
     "data": {
      "text/plain": [
       "array(['Not employed, and not looking for work', 'Employed part-time',\n",
       "       'Employed full-time',\n",
       "       'Independent contractor, freelancer, or self-employed',\n",
       "       'Not employed, but looking for work', nan, 'Retired'], dtype=object)"
      ]
     },
     "execution_count": 32,
     "metadata": {},
     "output_type": "execute_result"
    }
   ],
   "source": [
    "# substitute 'I prefer not to say' in 2017 with nan\n",
    "substitute(subset_17, 'Employment', ['I prefer not to say'], np.nan)"
   ]
  },
  {
   "cell_type": "code",
   "execution_count": 33,
   "metadata": {
    "scrolled": true
   },
   "outputs": [
    {
     "name": "stdout",
     "output_type": "stream",
     "text": [
      "2019\n",
      "[nan, 'Slightly satisfied', 'Very satisfied', 'Very dissatisfied', 'Slightly dissatisfied', 'Neither satisfied nor dissatisfied'] \n",
      "\n",
      "2018\n",
      "['Extremely satisfied', 'Neither satisfied nor dissatisfied', 'Moderately satisfied', 'Slightly dissatisfied', 'Slightly satisfied', nan, 'Moderately dissatisfied', 'Extremely dissatisfied'] \n",
      "\n",
      "2017\n",
      "[nan, 8.0, 6.0, 7.0, 3.0, 9.0, 5.0, 10.0, 4.0, 0.0, 2.0, 1.0] \n",
      "\n"
     ]
    }
   ],
   "source": [
    "# list of unique values in CareerSat column\n",
    "values('CareerSat')"
   ]
  },
  {
   "cell_type": "code",
   "execution_count": 34,
   "metadata": {
    "scrolled": false
   },
   "outputs": [
    {
     "name": "stdout",
     "output_type": "stream",
     "text": [
      "2019 \n",
      " Very satisfied                        29173\n",
      "Slightly satisfied                    25018\n",
      "Slightly dissatisfied                  7670\n",
      "Neither satisfied nor dissatisfied     7252\n",
      "Very dissatisfied                      3734\n",
      "Name: CareerSat, dtype: int64 \n",
      "\n",
      "2018 \n",
      " Moderately satisfied                  27926\n",
      "Extremely satisfied                   14316\n",
      "Slightly satisfied                    13484\n",
      "Slightly dissatisfied                  6587\n",
      "Neither satisfied nor dissatisfied     6316\n",
      "Moderately dissatisfied                5262\n",
      "Extremely dissatisfied                 2613\n",
      "Name: CareerSat, dtype: int64 \n",
      "\n",
      "2017 \n",
      " 8.0     11037\n",
      "7.0      9384\n",
      "9.0      5579\n",
      "10.0     5408\n",
      "6.0      4721\n",
      "5.0      3070\n",
      "4.0      1352\n",
      "3.0      1046\n",
      "2.0       495\n",
      "0.0       392\n",
      "1.0       211\n",
      "Name: CareerSat, dtype: int64 \n",
      "\n"
     ]
    }
   ],
   "source": [
    "# value_counts for 2019,2018, 2017\n",
    "j=0\n",
    "for i in subset_list:\n",
    "    print(year_list[j], \"\\n\", i['CareerSat'].value_counts(), \"\\n\")\n",
    "    j=j+1"
   ]
  },
  {
   "cell_type": "code",
   "execution_count": 35,
   "metadata": {},
   "outputs": [
    {
     "data": {
      "text/plain": [
       "array(['Very satisfied', 'Neither satisfied nor dissatisfied',\n",
       "       'Slightly dissatisfied', 'Slightly satisfied', nan,\n",
       "       'Very dissatisfied'], dtype=object)"
      ]
     },
     "execution_count": 35,
     "metadata": {},
     "output_type": "execute_result"
    }
   ],
   "source": [
    "# substitute moderately and extremely satisfied with very satisfied in 2018 subset\n",
    "substitute(subset_18, 'CareerSat', ['Moderately satisfied', 'Extremely satisfied'], 'Very satisfied')\n",
    "# substitute moderately and extremely dissatisfied with very dissatisfied in 2018 subset\n",
    "substitute(subset_18, 'CareerSat', ['Moderately dissatisfied', 'Extremely dissatisfied'], 'Very dissatisfied')"
   ]
  },
  {
   "cell_type": "code",
   "execution_count": 36,
   "metadata": {},
   "outputs": [
    {
     "data": {
      "text/plain": [
       "array([nan, 'Slightly satisfied', 'Neither satisfied nor dissatisfied',\n",
       "       'Slightly dissatisfied', 'Very satisfied', 'Very dissatisfied'],\n",
       "      dtype=object)"
      ]
     },
     "execution_count": 36,
     "metadata": {},
     "output_type": "execute_result"
    }
   ],
   "source": [
    "# 0, 1, 2 as very dissatisfied in 2017 subset\n",
    "substitute(subset_17, 'CareerSat', [0.0, 1.0, 2.0], 'Very dissatisfied')\n",
    "# 3 and 4 as slightly dissatisfied in 2017 subset\n",
    "substitute(subset_17, 'CareerSat', [3.0, 4.0], 'Slightly dissatisfied')\n",
    "# 5 and 6 as Neither satisfied nor dissatisfied in 2017 subset\n",
    "substitute(subset_17, 'CareerSat', [5.0, 6.0], 'Neither satisfied nor dissatisfied')\n",
    "# 7 and 8 as slightly satisfied in 2017 subset\n",
    "substitute(subset_17, 'CareerSat', [7.0, 8.0], 'Slightly satisfied')\n",
    "# 9 and 10 as very satisfied in 2017 subset\n",
    "substitute(subset_17, 'CareerSat', [9.0, 10.0], 'Very satisfied')"
   ]
  },
  {
   "cell_type": "code",
   "execution_count": 37,
   "metadata": {
    "scrolled": true
   },
   "outputs": [
    {
     "name": "stdout",
     "output_type": "stream",
     "text": [
      "2019\n",
      "[nan, '1', 'Less than 1 year', '9', '3', '4', '10', '8', '2', '13', '18', '5', '14', '22', '23', '19', '35', '20', '25', '7', '15', '27', '6', '48', '12', '31', '11', '17', '16', '21', '29', '30', '26', '33', '28', '37', '40', '34', '24', '39', '38', '36', '32', '41', '45', '43', 'More than 50 years', '44', '42', '46', '49', '50', '47'] \n",
      "\n",
      "2018\n",
      "['3-5 years', '18-20 years', '6-8 years', '12-14 years', '0-2 years', '21-23 years', nan, '24-26 years', '9-11 years', '15-17 years', '27-29 years', '30 or more years'] \n",
      "\n",
      "2017\n",
      "[nan, '20 or more years', '9 to 10 years', '10 to 11 years', '8 to 9 years', '7 to 8 years', '11 to 12 years', '15 to 16 years', '1 to 2 years', '3 to 4 years', '12 to 13 years', 'Less than a year', '5 to 6 years', '16 to 17 years', '13 to 14 years', '6 to 7 years', '2 to 3 years', '17 to 18 years', '4 to 5 years', '14 to 15 years', '18 to 19 years', '19 to 20 years'] \n",
      "\n"
     ]
    }
   ],
   "source": [
    "# list of unique values in YearsCodePro column\n",
    "values('YearsCodePro')"
   ]
  },
  {
   "cell_type": "code",
   "execution_count": 38,
   "metadata": {},
   "outputs": [],
   "source": [
    "# strip ' years' from right side of values\n",
    "subset_18['YearsCodePro'] = subset_18['YearsCodePro'].replace(' years', '', regex=True)\n",
    "# create a more aggregated list of values for YearsCodePro in 2018 based on 2017\n",
    "subset_18['YearsCodePro'].replace(to_replace=['21-23','24-26','27-29','30 or more'],value='21 or more',inplace=True)"
   ]
  },
  {
   "cell_type": "code",
   "execution_count": 39,
   "metadata": {},
   "outputs": [
    {
     "data": {
      "text/plain": [
       "array(['3-5', '18-20', '6-8', '12-14', '0-2', '21 or more', nan, '9-11',\n",
       "       '15-17'], dtype=object)"
      ]
     },
     "execution_count": 39,
     "metadata": {},
     "output_type": "execute_result"
    }
   ],
   "source": [
    "# check the values in 2018 in YearsCodePro\n",
    "subset_18['YearsCodePro'].unique()"
   ]
  },
  {
   "cell_type": "code",
   "execution_count": 40,
   "metadata": {},
   "outputs": [],
   "source": [
    "# create the list of values of YearsCodePro in 2019 based on 2018 data\n",
    "bins_2018 = ['0-2','3-5','6-8','9-11','12-14','15-17','18-20','21 or more']\n",
    "list_2019 = [['Less than 1 year','1','2'],['3','4','5'],['6','7','8'],['9','10','11'],['12','13','14'],\n",
    "            ['15','16','17'],['18','19','20'],\n",
    "             ['21','22','23','24','25','26','27','28','29','30','31','32','33','34','35','36','37','38',\n",
    "              '39','40','41','42','43','44','45','46','47','48','49','50','More than 50 years']]\n",
    "j=0\n",
    "for i in bins_2018:\n",
    "    substitute(subset_19, 'YearsCodePro', list_2019[j], i)\n",
    "    j=j+1"
   ]
  },
  {
   "cell_type": "code",
   "execution_count": 41,
   "metadata": {},
   "outputs": [
    {
     "data": {
      "text/plain": [
       "array([nan, '0-2', '9-11', '3-5', '6-8', '12-14', '18-20', '21 or more',\n",
       "       '15-17'], dtype=object)"
      ]
     },
     "execution_count": 41,
     "metadata": {},
     "output_type": "execute_result"
    }
   ],
   "source": [
    "# check the values in 2019 for YearsCodePro\n",
    "subset_19.YearsCodePro.unique()"
   ]
  },
  {
   "cell_type": "code",
   "execution_count": 42,
   "metadata": {},
   "outputs": [],
   "source": [
    "# create the list of values of YearsCodePro in 2017 based on 2018 data\n",
    "list_2017 = [['Less than a year','1 to 2 years'],['2 to 3 years','3 to 4 years','4 to 5 years'],\n",
    "            ['5 to 6 years','6 to 7 years','7 to 8 years'],['8 to 9 years','9 to 10 years','10 to 11 years'],\n",
    "            ['11 to 12 years','12 to 13 years','13 to 14 years'],['14 to 15 years','15 to 16 years','16 to 17 years'],\n",
    "            ['17 to 18 years','18 to 19 years','19 to 20 years'],['20 or more years']]\n",
    "j=0\n",
    "for i in bins_2018:\n",
    "    substitute(subset_17, 'YearsCodePro', list_2017[j], i)\n",
    "    j=j+1"
   ]
  },
  {
   "cell_type": "code",
   "execution_count": 43,
   "metadata": {},
   "outputs": [
    {
     "data": {
      "text/plain": [
       "array([nan, '21 or more', '9-11', '6-8', '12-14', '15-17', '0-2', '3-5',\n",
       "       '18-20'], dtype=object)"
      ]
     },
     "execution_count": 43,
     "metadata": {},
     "output_type": "execute_result"
    }
   ],
   "source": [
    "# check the values in 2017 for YearsCodePro\n",
    "subset_17.YearsCodePro.unique()"
   ]
  },
  {
   "cell_type": "code",
   "execution_count": 44,
   "metadata": {
    "scrolled": false
   },
   "outputs": [],
   "source": [
    "#values('LanguageWorkedWith')\n",
    "#values('LanguageDesireNextYear')"
   ]
  },
  {
   "cell_type": "code",
   "execution_count": 45,
   "metadata": {
    "scrolled": true
   },
   "outputs": [
    {
     "name": "stdout",
     "output_type": "stream",
     "text": [
      "2019 \n",
      " {'JavaScript': 59219, 'HTML/CSS': 55466, 'SQL': 47544, 'Python': 36443, 'Java': 35917, 'Bash/Shell/PowerShell': 31991, 'C#': 27097, 'PHP': 23030, 'C++': 20524, 'TypeScript': 18523, 'C': 18017, 'Other(s):': 7920, 'Ruby': 7331, 'Go': 7201, 'Assembly': 5833, 'Swift': 5744, 'Kotlin': 5620, 'R': 5048, 'VBA': 4781, 'Objective-C': 4191, 'Scala': 3309, 'Rust': 2794, 'Dart': 1683, 'NA': 1314, 'Elixir': 1260, 'Clojure': 1254, 'WebAssembly': 1015, 'F#': 973, 'Erlang': 777} \n",
      "\n",
      "2018 \n",
      " {'JavaScript': 54686, 'HTML': 53628, 'CSS': 50979, 'SQL': 44670, 'Java': 35521, 'Bash/Shell': 31172, 'Python': 30359, 'C#': 26954, 'PHP': 24071, 'NA': 20521, 'C++': 19872, 'C': 18042, 'TypeScript': 13626, 'Ruby': 7911, 'Swift': 6310, 'Assembly': 5760, 'Go': 5532, 'Objective-C': 5510, 'VB.NET': 5254, 'R': 4813, 'Matlab': 4564, 'VBA': 3810, 'Kotlin': 3508, 'Scala': 3420, 'Groovy': 3373, 'Perl': 3280, 'Visual Basic 6': 3087, 'Lua': 2733, 'CoffeeScript': 2603, 'Delphi/Object Pascal': 2025, 'Haskell': 1961, 'Rust': 1857, 'F#': 1115, 'Clojure': 1032, 'Erlang': 886, 'Cobol': 590, 'Ocaml': 470, 'Julia': 430, 'Hack': 254} \n",
      "\n",
      "2017 \n",
      " {'JavaScript': 22875, 'SQL': 18754, 'NA': 14767, 'Java': 14524, 'C#': 12476, 'Python': 11704, 'PHP': 10290, 'C++': 8155, 'C': 6974, 'TypeScript': 3488, 'Ruby': 3324, 'Swift': 2368, 'Objective-C': 2349, 'VB.NET': 2273, 'Assembly': 1823, 'R': 1634, 'Perl': 1585, 'VBA': 1574, 'Matlab': 1569, 'Go': 1557, 'Scala': 1309, 'Groovy': 1193, 'CoffeeScript': 1192, 'Visual Basic 6': 1071, 'Lua': 1039, 'Haskell': 649, 'F#': 457, 'Rust': 416, 'Clojure': 391, 'Elixir': 380, 'Smalltalk': 327, 'Erlang': 281, 'Common Lisp': 273, 'Dart': 145, 'Julia': 138, 'Hack': 107} \n",
      "\n"
     ]
    }
   ],
   "source": [
    "# count the number of languages worked with in each year\n",
    "def language_counter(df, column):\n",
    "    '''\n",
    "    INPUT:\n",
    "    df - dataframe\n",
    "    column - language column in dataframe\n",
    "    OUTPUT:\n",
    "    languages with their number of occurances\n",
    "    '''\n",
    "    row_series = df[column].apply(lambda x: x.split(';'))\n",
    "    \n",
    "    items = []\n",
    "    for row in row_series:\n",
    "        for item in row:\n",
    "            items.append(item.strip())\n",
    "    Counter(items)\n",
    "    return Counter(items)\n",
    "\n",
    "j=0\n",
    "for i in subset_list:\n",
    "    x = language_counter(i, 'LanguageWorkedWith')\n",
    "    y = {k: v for k, v in sorted(x.items(), key=lambda item: item[1], reverse=True)}\n",
    "    print(year_list[j], \"\\n\", y, \"\\n\")\n",
    "    j=j+1"
   ]
  },
  {
   "cell_type": "code",
   "execution_count": 46,
   "metadata": {
    "scrolled": true
   },
   "outputs": [],
   "source": [
    "# clean language columns and return boolean values for 3 top programing languages for data science (python, sql, and R)\n",
    "# as new columns\n",
    "def clean_language(subsets, columns, programs):\n",
    "    '''\n",
    "    INPUT:\n",
    "    subsets - list of subset dataframes\n",
    "    columns - columns to use for creating binary columns\n",
    "    programs - list of languages to draw from the columns\n",
    "    OUTPUT:\n",
    "    '''\n",
    "    for y in subsets:\n",
    "        for z in columns:\n",
    "            for x in programs:\n",
    "                y[x+'_'+z[8:-4]] = np.where(y[z].str.contains(x), 1, 0)\n",
    "            y.drop(z, axis = 1, inplace = True)\n",
    "    return"
   ]
  },
  {
   "cell_type": "code",
   "execution_count": 47,
   "metadata": {},
   "outputs": [],
   "source": [
    "# use clean_language function\n",
    "subset_19_copy = subset_19.copy()\n",
    "subset_18_copy = subset_18.copy()\n",
    "subset_17_copy = subset_17.copy()\n",
    "subset_list_copy = [subset_19_copy, subset_18_copy, subset_17_copy]\n",
    "\n",
    "#subset_list = [subset_19, subset_18, subset_17]\n",
    "column_list = ['LanguageWorkedWith', 'LanguageDesireNextYear']\n",
    "language_list = ['Python', 'SQL', 'R']\n",
    "clean_language(subsets = subset_list_copy, columns = column_list, programs = language_list)"
   ]
  },
  {
   "cell_type": "code",
   "execution_count": 48,
   "metadata": {},
   "outputs": [
    {
     "data": {
      "text/html": [
       "<div>\n",
       "<style scoped>\n",
       "    .dataframe tbody tr th:only-of-type {\n",
       "        vertical-align: middle;\n",
       "    }\n",
       "\n",
       "    .dataframe tbody tr th {\n",
       "        vertical-align: top;\n",
       "    }\n",
       "\n",
       "    .dataframe thead th {\n",
       "        text-align: right;\n",
       "    }\n",
       "</style>\n",
       "<table border=\"1\" class=\"dataframe\">\n",
       "  <thead>\n",
       "    <tr style=\"text-align: right;\">\n",
       "      <th></th>\n",
       "      <th>Country</th>\n",
       "      <th>OrgSize</th>\n",
       "      <th>Employment</th>\n",
       "      <th>CareerSat</th>\n",
       "      <th>YearsCodePro</th>\n",
       "      <th>Gender</th>\n",
       "      <th>Ethnicity</th>\n",
       "      <th>Salary</th>\n",
       "      <th>Python_Worked</th>\n",
       "      <th>SQL_Worked</th>\n",
       "      <th>R_Worked</th>\n",
       "      <th>Python_DesireNext</th>\n",
       "      <th>SQL_DesireNext</th>\n",
       "      <th>R_DesireNext</th>\n",
       "    </tr>\n",
       "  </thead>\n",
       "  <tbody>\n",
       "    <tr>\n",
       "      <th>0</th>\n",
       "      <td>United Kingdom</td>\n",
       "      <td>NaN</td>\n",
       "      <td>Not employed, and not looking for work</td>\n",
       "      <td>NaN</td>\n",
       "      <td>NaN</td>\n",
       "      <td>Man</td>\n",
       "      <td>NaN</td>\n",
       "      <td>NaN</td>\n",
       "      <td>1</td>\n",
       "      <td>0</td>\n",
       "      <td>0</td>\n",
       "      <td>1</td>\n",
       "      <td>1</td>\n",
       "      <td>0</td>\n",
       "    </tr>\n",
       "    <tr>\n",
       "      <th>1</th>\n",
       "      <td>Other</td>\n",
       "      <td>NaN</td>\n",
       "      <td>Not employed, but looking for work</td>\n",
       "      <td>NaN</td>\n",
       "      <td>NaN</td>\n",
       "      <td>Man</td>\n",
       "      <td>NaN</td>\n",
       "      <td>NaN</td>\n",
       "      <td>1</td>\n",
       "      <td>0</td>\n",
       "      <td>0</td>\n",
       "      <td>0</td>\n",
       "      <td>1</td>\n",
       "      <td>0</td>\n",
       "    </tr>\n",
       "    <tr>\n",
       "      <th>2</th>\n",
       "      <td>Other</td>\n",
       "      <td>100 to 499 employees</td>\n",
       "      <td>Employed full-time</td>\n",
       "      <td>Slightly satisfied</td>\n",
       "      <td>0-2</td>\n",
       "      <td>Man</td>\n",
       "      <td>NaN</td>\n",
       "      <td>8820.0</td>\n",
       "      <td>0</td>\n",
       "      <td>0</td>\n",
       "      <td>0</td>\n",
       "      <td>0</td>\n",
       "      <td>0</td>\n",
       "      <td>0</td>\n",
       "    </tr>\n",
       "  </tbody>\n",
       "</table>\n",
       "</div>"
      ],
      "text/plain": [
       "          Country               OrgSize  \\\n",
       "0  United Kingdom                   NaN   \n",
       "1           Other                   NaN   \n",
       "2           Other  100 to 499 employees   \n",
       "\n",
       "                               Employment           CareerSat YearsCodePro  \\\n",
       "0  Not employed, and not looking for work                 NaN          NaN   \n",
       "1      Not employed, but looking for work                 NaN          NaN   \n",
       "2                      Employed full-time  Slightly satisfied          0-2   \n",
       "\n",
       "  Gender Ethnicity  Salary  Python_Worked  SQL_Worked  R_Worked  \\\n",
       "0    Man       NaN     NaN              1           0         0   \n",
       "1    Man       NaN     NaN              1           0         0   \n",
       "2    Man       NaN  8820.0              0           0         0   \n",
       "\n",
       "   Python_DesireNext  SQL_DesireNext  R_DesireNext  \n",
       "0                  1               1             0  \n",
       "1                  0               1             0  \n",
       "2                  0               0             0  "
      ]
     },
     "execution_count": 48,
     "metadata": {},
     "output_type": "execute_result"
    }
   ],
   "source": [
    "# test code\n",
    "subset_19_copy.head(3)"
   ]
  },
  {
   "cell_type": "code",
   "execution_count": 49,
   "metadata": {},
   "outputs": [
    {
     "data": {
      "text/html": [
       "<div>\n",
       "<style scoped>\n",
       "    .dataframe tbody tr th:only-of-type {\n",
       "        vertical-align: middle;\n",
       "    }\n",
       "\n",
       "    .dataframe tbody tr th {\n",
       "        vertical-align: top;\n",
       "    }\n",
       "\n",
       "    .dataframe thead th {\n",
       "        text-align: right;\n",
       "    }\n",
       "</style>\n",
       "<table border=\"1\" class=\"dataframe\">\n",
       "  <thead>\n",
       "    <tr style=\"text-align: right;\">\n",
       "      <th></th>\n",
       "      <th>Country</th>\n",
       "      <th>OrgSize</th>\n",
       "      <th>Employment</th>\n",
       "      <th>CareerSat</th>\n",
       "      <th>YearsCodePro</th>\n",
       "      <th>Gender</th>\n",
       "      <th>Ethnicity</th>\n",
       "      <th>Salary</th>\n",
       "      <th>Python_Worked</th>\n",
       "      <th>SQL_Worked</th>\n",
       "      <th>R_Worked</th>\n",
       "      <th>Python_DesireNext</th>\n",
       "      <th>SQL_DesireNext</th>\n",
       "      <th>R_DesireNext</th>\n",
       "    </tr>\n",
       "  </thead>\n",
       "  <tbody>\n",
       "    <tr>\n",
       "      <th>0</th>\n",
       "      <td>Other</td>\n",
       "      <td>20 to 99 employees</td>\n",
       "      <td>Employed part-time</td>\n",
       "      <td>Very satisfied</td>\n",
       "      <td>3-5</td>\n",
       "      <td>Male</td>\n",
       "      <td>Black or of African descent</td>\n",
       "      <td>NaN</td>\n",
       "      <td>1</td>\n",
       "      <td>0</td>\n",
       "      <td>0</td>\n",
       "      <td>1</td>\n",
       "      <td>0</td>\n",
       "      <td>0</td>\n",
       "    </tr>\n",
       "    <tr>\n",
       "      <th>1</th>\n",
       "      <td>United Kingdom</td>\n",
       "      <td>10,000 or more employees</td>\n",
       "      <td>Employed full-time</td>\n",
       "      <td>Neither satisfied nor dissatisfied</td>\n",
       "      <td>18-20</td>\n",
       "      <td>Male</td>\n",
       "      <td>White or of European descent</td>\n",
       "      <td>70841.0</td>\n",
       "      <td>1</td>\n",
       "      <td>0</td>\n",
       "      <td>0</td>\n",
       "      <td>1</td>\n",
       "      <td>0</td>\n",
       "      <td>0</td>\n",
       "    </tr>\n",
       "    <tr>\n",
       "      <th>2</th>\n",
       "      <td>United States</td>\n",
       "      <td>20 to 99 employees</td>\n",
       "      <td>Employed full-time</td>\n",
       "      <td>Very satisfied</td>\n",
       "      <td>6-8</td>\n",
       "      <td>NaN</td>\n",
       "      <td>NaN</td>\n",
       "      <td>NaN</td>\n",
       "      <td>0</td>\n",
       "      <td>0</td>\n",
       "      <td>0</td>\n",
       "      <td>1</td>\n",
       "      <td>1</td>\n",
       "      <td>1</td>\n",
       "    </tr>\n",
       "  </tbody>\n",
       "</table>\n",
       "</div>"
      ],
      "text/plain": [
       "          Country                   OrgSize          Employment  \\\n",
       "0           Other        20 to 99 employees  Employed part-time   \n",
       "1  United Kingdom  10,000 or more employees  Employed full-time   \n",
       "2   United States        20 to 99 employees  Employed full-time   \n",
       "\n",
       "                            CareerSat YearsCodePro Gender  \\\n",
       "0                      Very satisfied          3-5   Male   \n",
       "1  Neither satisfied nor dissatisfied        18-20   Male   \n",
       "2                      Very satisfied          6-8    NaN   \n",
       "\n",
       "                      Ethnicity   Salary  Python_Worked  SQL_Worked  R_Worked  \\\n",
       "0   Black or of African descent      NaN              1           0         0   \n",
       "1  White or of European descent  70841.0              1           0         0   \n",
       "2                           NaN      NaN              0           0         0   \n",
       "\n",
       "   Python_DesireNext  SQL_DesireNext  R_DesireNext  \n",
       "0                  1               0             0  \n",
       "1                  1               0             0  \n",
       "2                  1               1             1  "
      ]
     },
     "execution_count": 49,
     "metadata": {},
     "output_type": "execute_result"
    }
   ],
   "source": [
    "# test code\n",
    "subset_18_copy.head(3)"
   ]
  },
  {
   "cell_type": "code",
   "execution_count": 50,
   "metadata": {},
   "outputs": [
    {
     "data": {
      "text/html": [
       "<div>\n",
       "<style scoped>\n",
       "    .dataframe tbody tr th:only-of-type {\n",
       "        vertical-align: middle;\n",
       "    }\n",
       "\n",
       "    .dataframe tbody tr th {\n",
       "        vertical-align: top;\n",
       "    }\n",
       "\n",
       "    .dataframe thead th {\n",
       "        text-align: right;\n",
       "    }\n",
       "</style>\n",
       "<table border=\"1\" class=\"dataframe\">\n",
       "  <thead>\n",
       "    <tr style=\"text-align: right;\">\n",
       "      <th></th>\n",
       "      <th>Country</th>\n",
       "      <th>OrgSize</th>\n",
       "      <th>Employment</th>\n",
       "      <th>CareerSat</th>\n",
       "      <th>YearsCodePro</th>\n",
       "      <th>Gender</th>\n",
       "      <th>Ethnicity</th>\n",
       "      <th>Salary</th>\n",
       "      <th>Python_Worked</th>\n",
       "      <th>SQL_Worked</th>\n",
       "      <th>R_Worked</th>\n",
       "      <th>Python_DesireNext</th>\n",
       "      <th>SQL_DesireNext</th>\n",
       "      <th>R_DesireNext</th>\n",
       "    </tr>\n",
       "  </thead>\n",
       "  <tbody>\n",
       "    <tr>\n",
       "      <th>0</th>\n",
       "      <td>United States</td>\n",
       "      <td>NaN</td>\n",
       "      <td>Not employed, and not looking for work</td>\n",
       "      <td>NaN</td>\n",
       "      <td>NaN</td>\n",
       "      <td>Male</td>\n",
       "      <td>White or of European descent</td>\n",
       "      <td>NaN</td>\n",
       "      <td>0</td>\n",
       "      <td>0</td>\n",
       "      <td>0</td>\n",
       "      <td>0</td>\n",
       "      <td>0</td>\n",
       "      <td>0</td>\n",
       "    </tr>\n",
       "    <tr>\n",
       "      <th>1</th>\n",
       "      <td>United Kingdom</td>\n",
       "      <td>20 to 99 employees</td>\n",
       "      <td>Employed part-time</td>\n",
       "      <td>NaN</td>\n",
       "      <td>NaN</td>\n",
       "      <td>Male</td>\n",
       "      <td>White or of European descent</td>\n",
       "      <td>NaN</td>\n",
       "      <td>1</td>\n",
       "      <td>1</td>\n",
       "      <td>1</td>\n",
       "      <td>1</td>\n",
       "      <td>1</td>\n",
       "      <td>1</td>\n",
       "    </tr>\n",
       "    <tr>\n",
       "      <th>2</th>\n",
       "      <td>United Kingdom</td>\n",
       "      <td>10,000 or more employees</td>\n",
       "      <td>Employed full-time</td>\n",
       "      <td>Slightly satisfied</td>\n",
       "      <td>21 or more</td>\n",
       "      <td>Male</td>\n",
       "      <td>White or of European descent</td>\n",
       "      <td>113750.0</td>\n",
       "      <td>1</td>\n",
       "      <td>0</td>\n",
       "      <td>0</td>\n",
       "      <td>1</td>\n",
       "      <td>0</td>\n",
       "      <td>1</td>\n",
       "    </tr>\n",
       "  </tbody>\n",
       "</table>\n",
       "</div>"
      ],
      "text/plain": [
       "          Country                   OrgSize  \\\n",
       "0   United States                       NaN   \n",
       "1  United Kingdom        20 to 99 employees   \n",
       "2  United Kingdom  10,000 or more employees   \n",
       "\n",
       "                               Employment           CareerSat YearsCodePro  \\\n",
       "0  Not employed, and not looking for work                 NaN          NaN   \n",
       "1                      Employed part-time                 NaN          NaN   \n",
       "2                      Employed full-time  Slightly satisfied   21 or more   \n",
       "\n",
       "  Gender                     Ethnicity    Salary  Python_Worked  SQL_Worked  \\\n",
       "0   Male  White or of European descent       NaN              0           0   \n",
       "1   Male  White or of European descent       NaN              1           1   \n",
       "2   Male  White or of European descent  113750.0              1           0   \n",
       "\n",
       "   R_Worked  Python_DesireNext  SQL_DesireNext  R_DesireNext  \n",
       "0         0                  0               0             0  \n",
       "1         1                  1               1             1  \n",
       "2         0                  1               0             1  "
      ]
     },
     "execution_count": 50,
     "metadata": {},
     "output_type": "execute_result"
    }
   ],
   "source": [
    "# test code\n",
    "subset_17_copy.head(3)"
   ]
  },
  {
   "cell_type": "code",
   "execution_count": 51,
   "metadata": {
    "scrolled": true
   },
   "outputs": [
    {
     "name": "stdout",
     "output_type": "stream",
     "text": [
      "2019\n",
      "['Man', nan, 'Woman', 'Non-binary, genderqueer, or gender non-conforming', 'Woman;Non-binary, genderqueer, or gender non-conforming', 'Woman;Man;Non-binary, genderqueer, or gender non-conforming', 'Woman;Man', 'Man;Non-binary, genderqueer, or gender non-conforming'] \n",
      "\n",
      "2018\n",
      "['Male', nan, 'Female', 'Female;Male;Transgender;Non-binary, genderqueer, or gender non-conforming', 'Female;Male', 'Male;Non-binary, genderqueer, or gender non-conforming', 'Non-binary, genderqueer, or gender non-conforming', 'Transgender', 'Female;Transgender', 'Transgender;Non-binary, genderqueer, or gender non-conforming', 'Female;Non-binary, genderqueer, or gender non-conforming', 'Female;Transgender;Non-binary, genderqueer, or gender non-conforming', 'Male;Transgender', 'Female;Male;Transgender', 'Female;Male;Non-binary, genderqueer, or gender non-conforming', 'Male;Transgender;Non-binary, genderqueer, or gender non-conforming'] \n",
      "\n",
      "2017\n",
      "['Male', nan, 'Female', 'Gender non-conforming', 'Other', 'Male; Gender non-conforming', 'Female; Transgender', 'Male; Female', 'Male; Other', 'Transgender', 'Transgender; Gender non-conforming', 'Female; Gender non-conforming', 'Male; Female; Transgender; Gender non-conforming; Other', 'Male; Female; Transgender', 'Male; Female; Other', 'Male; Female; Transgender; Gender non-conforming', 'Male; Transgender', 'Female; Transgender; Gender non-conforming', 'Gender non-conforming; Other', 'Male; Female; Gender non-conforming', 'Female; Other', 'Male; Transgender; Gender non-conforming', 'Transgender; Other', 'Male; Gender non-conforming; Other', 'Female; Gender non-conforming; Other', 'Male; Female; Gender non-conforming; Other', 'Female; Transgender; Other', 'Female; Transgender; Gender non-conforming; Other', 'Male; Transgender; Other', 'Male; Female; Transgender; Other'] \n",
      "\n"
     ]
    }
   ],
   "source": [
    "# list of values in gender column for 2019, 2018, 2017\n",
    "values('Gender')"
   ]
  },
  {
   "cell_type": "code",
   "execution_count": 52,
   "metadata": {},
   "outputs": [],
   "source": [
    "# re-categorize Gender column into Male, Female, and Other for 2019, 2018, 2017\n",
    "subset_19_copy['Gender'] = subset_19_copy['Gender'].apply(\n",
    "    lambda x: 'Male' if x=='Man' else ('Female' if x=='Woman' else (np.nan if pd.isnull(x) else 'Other')))\n",
    "\n",
    "subset_18_copy['Gender'] = subset_18_copy['Gender'].apply(\n",
    "    lambda x: 'Male' if x=='Male' else ('Female' if x=='Female' else (np.nan if pd.isnull(x) else 'Other')))\n",
    "\n",
    "subset_17_copy['Gender'] = subset_17_copy['Gender'].apply(\n",
    "    lambda x: 'Male' if x=='Male' else ('Female' if x=='Female' else (np.nan if pd.isnull(x) else 'Other')))"
   ]
  },
  {
   "cell_type": "code",
   "execution_count": 53,
   "metadata": {},
   "outputs": [],
   "source": [
    "# list of values in ethnicity column for 2019, 2018, 2017\n",
    "#subset_19_copy['Ethnicity'].value_counts()\n",
    "# create an ethnicity list and re-categorize ethnicities\n",
    "ethnicity_list = ['White or of European descent', 'South Asian', 'East Asian',\n",
    "                  'Hispanic or Latino/Latina', 'Middle Eastern', 'Black or of African descent']\n",
    "for i in subset_list_copy:\n",
    "    i['Ethnicity'] = i['Ethnicity'].apply(lambda x: x if x in ethnicity_list else (np.nan if pd.isnull(x) else 'Other'))"
   ]
  },
  {
   "cell_type": "code",
   "execution_count": 54,
   "metadata": {},
   "outputs": [],
   "source": [
    "# add year column\n",
    "subset_19_copy['Year'] = '2019'\n",
    "subset_18_copy['Year'] = '2018'\n",
    "subset_17_copy['Year'] = '2017'"
   ]
  },
  {
   "cell_type": "code",
   "execution_count": 55,
   "metadata": {},
   "outputs": [
    {
     "data": {
      "text/html": [
       "<div>\n",
       "<style scoped>\n",
       "    .dataframe tbody tr th:only-of-type {\n",
       "        vertical-align: middle;\n",
       "    }\n",
       "\n",
       "    .dataframe tbody tr th {\n",
       "        vertical-align: top;\n",
       "    }\n",
       "\n",
       "    .dataframe thead th {\n",
       "        text-align: right;\n",
       "    }\n",
       "</style>\n",
       "<table border=\"1\" class=\"dataframe\">\n",
       "  <thead>\n",
       "    <tr style=\"text-align: right;\">\n",
       "      <th></th>\n",
       "      <th>Country</th>\n",
       "      <th>OrgSize</th>\n",
       "      <th>Employment</th>\n",
       "      <th>CareerSat</th>\n",
       "      <th>YearsCodePro</th>\n",
       "      <th>Gender</th>\n",
       "      <th>Ethnicity</th>\n",
       "      <th>Salary</th>\n",
       "      <th>Python_Worked</th>\n",
       "      <th>SQL_Worked</th>\n",
       "      <th>R_Worked</th>\n",
       "      <th>Python_DesireNext</th>\n",
       "      <th>SQL_DesireNext</th>\n",
       "      <th>R_DesireNext</th>\n",
       "      <th>Year</th>\n",
       "    </tr>\n",
       "  </thead>\n",
       "  <tbody>\n",
       "    <tr>\n",
       "      <th>0</th>\n",
       "      <td>United Kingdom</td>\n",
       "      <td>NaN</td>\n",
       "      <td>Not employed, and not looking for work</td>\n",
       "      <td>NaN</td>\n",
       "      <td>NaN</td>\n",
       "      <td>Male</td>\n",
       "      <td>NaN</td>\n",
       "      <td>NaN</td>\n",
       "      <td>1</td>\n",
       "      <td>0</td>\n",
       "      <td>0</td>\n",
       "      <td>1</td>\n",
       "      <td>1</td>\n",
       "      <td>0</td>\n",
       "      <td>2019</td>\n",
       "    </tr>\n",
       "    <tr>\n",
       "      <th>1</th>\n",
       "      <td>Other</td>\n",
       "      <td>NaN</td>\n",
       "      <td>Not employed, but looking for work</td>\n",
       "      <td>NaN</td>\n",
       "      <td>NaN</td>\n",
       "      <td>Male</td>\n",
       "      <td>NaN</td>\n",
       "      <td>NaN</td>\n",
       "      <td>1</td>\n",
       "      <td>0</td>\n",
       "      <td>0</td>\n",
       "      <td>0</td>\n",
       "      <td>1</td>\n",
       "      <td>0</td>\n",
       "      <td>2019</td>\n",
       "    </tr>\n",
       "    <tr>\n",
       "      <th>2</th>\n",
       "      <td>Other</td>\n",
       "      <td>100 to 499 employees</td>\n",
       "      <td>Employed full-time</td>\n",
       "      <td>Slightly satisfied</td>\n",
       "      <td>0-2</td>\n",
       "      <td>Male</td>\n",
       "      <td>NaN</td>\n",
       "      <td>8820.0</td>\n",
       "      <td>0</td>\n",
       "      <td>0</td>\n",
       "      <td>0</td>\n",
       "      <td>0</td>\n",
       "      <td>0</td>\n",
       "      <td>0</td>\n",
       "      <td>2019</td>\n",
       "    </tr>\n",
       "    <tr>\n",
       "      <th>3</th>\n",
       "      <td>United States</td>\n",
       "      <td>100 to 499 employees</td>\n",
       "      <td>Employed full-time</td>\n",
       "      <td>Very satisfied</td>\n",
       "      <td>0-2</td>\n",
       "      <td>Male</td>\n",
       "      <td>White or of European descent</td>\n",
       "      <td>61000.0</td>\n",
       "      <td>1</td>\n",
       "      <td>1</td>\n",
       "      <td>0</td>\n",
       "      <td>0</td>\n",
       "      <td>1</td>\n",
       "      <td>0</td>\n",
       "      <td>2019</td>\n",
       "    </tr>\n",
       "    <tr>\n",
       "      <th>4</th>\n",
       "      <td>Ukraine</td>\n",
       "      <td>10,000 or more employees</td>\n",
       "      <td>Employed full-time</td>\n",
       "      <td>Very dissatisfied</td>\n",
       "      <td>9-11</td>\n",
       "      <td>Male</td>\n",
       "      <td>Other</td>\n",
       "      <td>NaN</td>\n",
       "      <td>1</td>\n",
       "      <td>1</td>\n",
       "      <td>0</td>\n",
       "      <td>0</td>\n",
       "      <td>1</td>\n",
       "      <td>0</td>\n",
       "      <td>2019</td>\n",
       "    </tr>\n",
       "  </tbody>\n",
       "</table>\n",
       "</div>"
      ],
      "text/plain": [
       "          Country                   OrgSize  \\\n",
       "0  United Kingdom                       NaN   \n",
       "1           Other                       NaN   \n",
       "2           Other      100 to 499 employees   \n",
       "3   United States      100 to 499 employees   \n",
       "4         Ukraine  10,000 or more employees   \n",
       "\n",
       "                               Employment           CareerSat YearsCodePro  \\\n",
       "0  Not employed, and not looking for work                 NaN          NaN   \n",
       "1      Not employed, but looking for work                 NaN          NaN   \n",
       "2                      Employed full-time  Slightly satisfied          0-2   \n",
       "3                      Employed full-time      Very satisfied          0-2   \n",
       "4                      Employed full-time   Very dissatisfied         9-11   \n",
       "\n",
       "  Gender                     Ethnicity   Salary  Python_Worked  SQL_Worked  \\\n",
       "0   Male                           NaN      NaN              1           0   \n",
       "1   Male                           NaN      NaN              1           0   \n",
       "2   Male                           NaN   8820.0              0           0   \n",
       "3   Male  White or of European descent  61000.0              1           1   \n",
       "4   Male                         Other      NaN              1           1   \n",
       "\n",
       "   R_Worked  Python_DesireNext  SQL_DesireNext  R_DesireNext  Year  \n",
       "0         0                  1               1             0  2019  \n",
       "1         0                  0               1             0  2019  \n",
       "2         0                  0               0             0  2019  \n",
       "3         0                  0               1             0  2019  \n",
       "4         0                  0               1             0  2019  "
      ]
     },
     "execution_count": 55,
     "metadata": {},
     "output_type": "execute_result"
    }
   ],
   "source": [
    "# append all three data frames into one clean dataset\n",
    "clean_subset = subset_19_copy.append([subset_18_copy, subset_17_copy], ignore_index=True)\n",
    "clean_subset.head()"
   ]
  },
  {
   "cell_type": "code",
   "execution_count": 56,
   "metadata": {},
   "outputs": [
    {
     "name": "stdout",
     "output_type": "stream",
     "text": [
      "<class 'pandas.core.frame.DataFrame'>\n",
      "RangeIndex: 239130 entries, 0 to 239129\n",
      "Data columns (total 15 columns):\n",
      "Country              238586 non-null object\n",
      "OrgSize              180694 non-null object\n",
      "Employment           232808 non-null object\n",
      "CareerSat            192046 non-null object\n",
      "YearsCodePro         193124 non-null object\n",
      "Gender               184922 non-null object\n",
      "Ethnicity            167174 non-null object\n",
      "Salary               116416 non-null float64\n",
      "Python_Worked        239130 non-null int32\n",
      "SQL_Worked           239130 non-null int32\n",
      "R_Worked             239130 non-null int32\n",
      "Python_DesireNext    239130 non-null int32\n",
      "SQL_DesireNext       239130 non-null int32\n",
      "R_DesireNext         239130 non-null int32\n",
      "Year                 239130 non-null object\n",
      "dtypes: float64(1), int32(6), object(8)\n",
      "memory usage: 21.9+ MB\n"
     ]
    }
   ],
   "source": [
    "# basic info from the clean dataset\n",
    "clean_subset.info()"
   ]
  },
  {
   "cell_type": "code",
   "execution_count": 57,
   "metadata": {},
   "outputs": [
    {
     "name": "stdout",
     "output_type": "stream",
     "text": [
      "<class 'pandas.core.frame.DataFrame'>\n",
      "Int64Index: 9021 entries, 5 to 239127\n",
      "Data columns (total 15 columns):\n",
      "Country              9021 non-null object\n",
      "OrgSize              6892 non-null object\n",
      "Employment           8857 non-null object\n",
      "CareerSat            7389 non-null object\n",
      "YearsCodePro         7429 non-null object\n",
      "Gender               7361 non-null object\n",
      "Ethnicity            6978 non-null object\n",
      "Salary               4907 non-null float64\n",
      "Python_Worked        9021 non-null int32\n",
      "SQL_Worked           9021 non-null int32\n",
      "R_Worked             9021 non-null int32\n",
      "Python_DesireNext    9021 non-null int32\n",
      "SQL_DesireNext       9021 non-null int32\n",
      "R_DesireNext         9021 non-null int32\n",
      "Year                 9021 non-null object\n",
      "dtypes: float64(1), int32(6), object(8)\n",
      "memory usage: 916.2+ KB\n"
     ]
    }
   ],
   "source": [
    "# I'm interested in making my analysis more targeted and focused on Canada.\n",
    "clean_canada = clean_subset.loc[clean_subset['Country'] == 'Canada']\n",
    "clean_canada.info()"
   ]
  },
  {
   "cell_type": "markdown",
   "metadata": {},
   "source": [
    "## Results Evaluation\n",
    "> Now that I have cleaned the data and compiled all three years into one with only data from Canada, I can start visualizing data with respect to the three main questions.\n",
    "\n",
    "#### 1. Which programming languages among python, sql, and R lead to higher salary in Canada? Is there any change in salary from 2017 to 2019? What percentage of Canadian participants have worked with each of these languages and desire to wotk with for next year?"
   ]
  },
  {
   "cell_type": "code",
   "execution_count": 70,
   "metadata": {
    "scrolled": true
   },
   "outputs": [
    {
     "data": {
      "image/png": "[encoded data removed]",
      "text/plain": [
       "<Figure size 720x432 with 1 Axes>"
      ]
     },
     "metadata": {
      "needs_background": "light"
     },
     "output_type": "display_data"
    }
   ],
   "source": [
    "# Draw scatter plot of average value for percentage of participants worked with languages vs desire for\n",
    "canada_copy = clean_canada.copy()\n",
    "\n",
    "plt.rcParams[\"figure.figsize\"] = (10,6)\n",
    "fig, ax = plt.subplots()\n",
    "a = plt.scatter(canada_copy.groupby('Year').mean().Python_Worked*100, canada_copy.groupby('Year').mean().Python_DesireNext*100,\n",
    "           canada_copy.groupby('Year').mean().Salary/500, c = ['red','green','blue'], marker = \"o\");\n",
    "b = plt.scatter(canada_copy.groupby('Year').mean().R_Worked*100, canada_copy.groupby('Year').mean().R_DesireNext*100,\n",
    "           canada_copy.groupby('Year').mean().Salary/500, c = ['red','green','blue'], marker = \"^\");\n",
    "c = plt.scatter(canada_copy.groupby('Year').mean().SQL_Worked*100, canada_copy.groupby('Year').mean().SQL_DesireNext*100,\n",
    "           canada_copy.groupby('Year').mean().Salary/500, c = ['red','green','blue'], marker = \"s\");\n",
    "plt.legend((a,b,c),('Python','R','SQL'),scatterpoints=1,loc='upper right',fontsize=8,ncol=3, bbox_to_anchor=(1, 1))\n",
    "ax = plt.gca()\n",
    "leg = ax.get_legend()\n",
    "leg.legendHandles[0].set_color('grey')\n",
    "leg.legendHandles[1].set_color('grey')\n",
    "leg.legendHandles[2].set_color('grey')\n",
    "\n",
    "plt.title('Language Desire for Next Year vs. Worked with Last Year\\n(Red: 2017; Green: 2018; Blue: 2019)\\nThe marker size is equivalent to Salary')\n",
    "plt.xlabel('Worked (% of all participants)')\n",
    "plt.ylabel('Desire (% of all participants)');"
   ]
  },
  {
   "cell_type": "markdown",
   "metadata": {},
   "source": [
    "#### 2. Are Canadian developers with more experience and career satisfaction gain more salary?"
   ]
  },
  {
   "cell_type": "code",
   "execution_count": 107,
   "metadata": {
    "scrolled": true
   },
   "outputs": [
    {
     "data": {
      "image/png": "[encoded data removed]",
      "text/plain": [
       "<Figure size 864x432 with 2 Axes>"
      ]
     },
     "metadata": {
      "needs_background": "light"
     },
     "output_type": "display_data"
    }
   ],
   "source": [
    "# Draw heatmap of salary vs career satisfaction and professional coding experience\n",
    "a = ['Very satisfied','Slightly satisfied', 'Neither satisfied nor dissatisfied','Slightly dissatisfied', 'Very dissatisfied']\n",
    "b = ['0-2','3-5','6-8','9-11','12-14','15-17','18-20','21 or more']\n",
    "\n",
    "canada_copy['CareerSat'] = canada_copy['CareerSat'].astype('category', categories=a, ordered=True)\n",
    "canada_copy['YearsCodePro'] = canada_copy['YearsCodePro'].astype('category', categories=b, ordered=True)\n",
    "plt.figure(figsize=[12,6])\n",
    "\n",
    "cat = canada_copy.groupby(['YearsCodePro', 'CareerSat']).mean()['Salary']/1000\n",
    "cat = cat.reset_index(name = 'Salary')\n",
    "cat = cat.pivot(index = 'CareerSat', columns = 'YearsCodePro',\n",
    "                            values = 'Salary')\n",
    "\n",
    "cmap = sb.cm.rocket_r\n",
    "sb.heatmap(cat, annot = True, fmt = '.0f', cmap = cmap,\n",
    "           cbar_kws = {'label' : 'Salary (Thousands $)'});\n",
    "plt.title('Heatmap of Salary vs Career Satisfaction and Professional Coding Experience')\n",
    "plt.xlabel('Professional Coding Experience (Years)')\n",
    "plt.ylabel('Career Satisfaction');"
   ]
  },
  {
   "cell_type": "code",
   "execution_count": 121,
   "metadata": {
    "scrolled": true
   },
   "outputs": [
    {
     "data": {
      "text/plain": [
       "Very satisfied                        3545\n",
       "Slightly satisfied                    2298\n",
       "Neither satisfied nor dissatisfied     690\n",
       "Slightly dissatisfied                  484\n",
       "Very dissatisfied                      372\n",
       "Name: CareerSat, dtype: int64"
      ]
     },
     "execution_count": 121,
     "metadata": {},
     "output_type": "execute_result"
    }
   ],
   "source": [
    "# Look at the number of participants in categories of career satisfaction\n",
    "canada_copy.CareerSat.value_counts()"
   ]
  },
  {
   "cell_type": "markdown",
   "metadata": {},
   "source": [
    "#### 3. Does salary increases with higher professional coding experience among Canadian developers? Is there any difference in salary between male and female developers? Does organization size have any effect on salary? How about ethnicity?"
   ]
  },
  {
   "cell_type": "code",
   "execution_count": 120,
   "metadata": {},
   "outputs": [
    {
     "data": {
      "image/png": "[encoded data removed]",
      "text/plain": [
       "<Figure size 1152x1296 with 3 Axes>"
      ]
     },
     "metadata": {
      "needs_background": "light"
     },
     "output_type": "display_data"
    }
   ],
   "source": [
    "# Draw point plot of salary vs professional coding experience and demographics (gender and ethnicity)\n",
    "\n",
    "# putting values for income range in order\n",
    "canada_copy1 = canada_copy.copy()\n",
    "canada_copy1 = canada_copy1[canada_copy1.Gender != 'Other']\n",
    "\n",
    "org_order = ['Fewer than 10 employees','10 to 19 employees','20 to 99 employees','100 to 499 employees',\n",
    "            '500 to 999 employees','1,000 to 4,999 employees','5,000 to 9,999 employees','10,000 or more employees']\n",
    "ethni_order = ['White or of European descent', 'South Asian', 'East Asian',\n",
    "               'Middle Eastern', 'Black or of African descent', 'Hispanic or Latino/Latina', 'Other']\n",
    "exprience_orders = ['0-2','3-5','6-8','9-11','12-14','15-17','18-20','21 or more']\n",
    "exporders = pd.api.types.CategoricalDtype(ordered = True, categories = exprience_orders)\n",
    "orgorders = pd.api.types.CategoricalDtype(ordered = True, categories = org_order)\n",
    "ethniorders = pd.api.types.CategoricalDtype(ordered = True, categories = ethni_order)\n",
    "canada_copy1['YearsCodePro'] = canada_copy['YearsCodePro'].astype(exporders)\n",
    "canada_copy1['Ethnicity'] = canada_copy['Ethnicity'].astype(ethniorders)\n",
    "canada_copy1['OrgSize'] = canada_copy['OrgSize'].astype(orgorders)\n",
    "\n",
    "plt.figure(figsize=[16,18])\n",
    "plt.subplot(3,1,1)\n",
    "sb.pointplot(data = canada_copy1, x = 'YearsCodePro', y = 'Salary', hue = 'Gender',\n",
    "                  dodge = 0.2, linestyles = \"\")\n",
    "plt.legend(bbox_to_anchor=(0.01, 0.99), loc='upper left',\n",
    "           ncol=1, borderaxespad=0.)\n",
    "plt.xticks(rotation=0);\n",
    "plt.title('Salary vs Professional Coding Experience Divided by Gender')\n",
    "plt.xlabel('Professional Coding Experience (Years)')\n",
    "plt.ylabel('Salary');\n",
    "\n",
    "plt.subplot(3,1,2)\n",
    "sb.pointplot(data = canada_copy1, x = 'YearsCodePro', y = 'Salary', hue = 'Ethnicity',\n",
    "                  dodge = 0.4, linestyles = \"\")\n",
    "plt.legend(bbox_to_anchor=(0.01, 0.99), loc='upper left',\n",
    "           ncol=2, borderaxespad=0.)\n",
    "plt.xticks(rotation=0)\n",
    "axes = plt.gca()\n",
    "axes.set_ylim([30000,300000]);\n",
    "plt.title('Salary vs Professional Coding Experience Divided by Ethnicity')\n",
    "plt.xlabel('Professional Coding Experience (Years)')\n",
    "plt.ylabel('Salary');\n",
    "\n",
    "plt.subplot(3,1,3)\n",
    "sb.pointplot(data = canada_copy1, x = 'YearsCodePro', y = 'Salary', hue = 'OrgSize',\n",
    "                  dodge = 0.45, linestyles = \"\")\n",
    "plt.legend(bbox_to_anchor=(0.01, 0.99), loc='upper left',\n",
    "           ncol=2, borderaxespad=0.)\n",
    "plt.xticks(rotation=0)\n",
    "axes = plt.gca()\n",
    "axes.set_ylim([30000,300000]);\n",
    "plt.title('Salary vs Professional Coding Experience Divided by Organization Size')\n",
    "plt.xlabel('Professional Coding Experience (Years)')\n",
    "plt.ylabel('Salary');"
   ]
  },
  {
   "cell_type": "markdown",
   "metadata": {},
   "source": [
    "### Results and Conclusion\n",
    "> 1. Less than 20% of participants have worked with R while this number is above 27% and 39% for Python and SQL, respectively. The usage of all three languages has increased from 2016 to 2018 (the question is relevant to the previous year) but the desire to work with each language has dropped from 2018 to 2020. R seems to have lost its popularity the most from 2018 to 2019 with drop in desire from 44% to 36% and less than 1% increase in usage. The salary has increased consistently among all languages from 2017 to 2019. It can be concluded that programming language shouldn't have strong impact on the level of salary but seemingly more developers work with Python and SQL compared to R and the desire to work with these languages is also higher. SQL looks to be the most popular language and R to be the least popular.\n",
    "2. On average, satisfied developers mostly earn between 100 and 150 thousand dollars annually while dissatisfied developers show high variable salary earnings. Exprience doesn't seem to have effect on salary for dissatisied developers meaning that more experience doesn't lead to higher salary. On the other hand, satisfied developers generally earn higher salary with more experience. The higher variability in salary levels among disatisfied developers may arise from the small sample size of these groups but yet this result can be indicative of two groups of workplaces in Canada. The first are having satisfied employees who pay them according to their experience. These workplaces are very well organized with better culture of employment which lead to higher satisfaction of employees while others with dissatisfied employees don't pay them accordingly and would have unorganized working environment. Career satisfaction is not only relevant to salary but also to other factors such as work environment and culture.\n",
    "3. On average, male developers with experience up to 8 years earn more than female developer. On the other hand, female developer with experience between 9 and 17 years earn higher and again male developers earn higher with  more than 18 years of experience. Due to other confounding factors, the variability in ethnicity and organization size results was high. An observation that can be made here is the slight increase in salary with higher experience for white or european decent developers.\n",
    "> Note: It is important to remember that these are self-reported data and there is chance of error and bias in the results. The high variability in the results from organization size and ethnicity would be as a result of this."
   ]
  },
  {
   "cell_type": "code",
   "execution_count": null,
   "metadata": {},
   "outputs": [],
   "source": []
  }
 ],
 "metadata": {
  "kernelspec": {
   "display_name": "Python 3",
   "language": "python",
   "name": "python3"
  },
  "language_info": {
   "codemirror_mode": {
    "name": "ipython",
    "version": 3
   },
   "file_extension": ".py",
   "mimetype": "text/x-python",
   "name": "python",
   "nbconvert_exporter": "python",
   "pygments_lexer": "ipython3",
   "version": "3.6.3"
  }
 },
 "nbformat": 4,
 "nbformat_minor": 2
}
